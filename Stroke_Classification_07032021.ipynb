{
 "cells": [
  {
   "cell_type": "code",
   "execution_count": 1,
   "metadata": {},
   "outputs": [],
   "source": [
    "import pandas as pd\n",
    "import numpy as np\n",
    "\n",
    "import seaborn as sns\n",
    "import matplotlib.pyplot as plt\n",
    "%matplotlib inline\n",
    "\n",
    "from sklearn.naive_bayes import GaussianNB\n",
    "from sklearn.neighbors import KNeighborsClassifier\n",
    "from sklearn.model_selection import cross_val_score, train_test_split\n",
    "from sklearn.model_selection import StratifiedKFold\n",
    "from sklearn.model_selection import GridSearchCV\n",
    "from sklearn.preprocessing import StandardScaler\n",
    "from sklearn.preprocessing import MinMaxScaler\n",
    "from sklearn.metrics import classification_report, confusion_matrix, accuracy_score, recall_score, precision_score\n",
    "from sklearn.pipeline import Pipeline\n"
   ]
  },
  {
   "cell_type": "markdown",
   "metadata": {},
   "source": [
    "# Contexto\n",
    "\n",
    "Según la Organización Mundial de la Salud (OMS), el accidente cerebrovascular (ACV) es la segunda causa principal de muerte a nivel mundial, responsable de aproximadamente el 11% del total de muertes.\n",
    "Este conjunto de datos se utiliza para predecir si es probable que un paciente sufra un accidente cerebrovascular en función de los parámetros de entrada como el sexo, la edad, diversas enfermedades y el tabaquismo. Cada fila de los datos proporciona información relevante sobre el paciente.\n",
    "\n",
    "Información de los atributos del dataset\n",
    "1. id: identificación\n",
    "2. gender: sexo biológico del paciente\n",
    "3. age: edad\n",
    "4. hypertension: YES/NO si el paciente tiene o no hipertensión\n",
    "5. heart_disease: YES/NO si el paciente tiene o no alguna enfermedad vinculada al corazón\n",
    "6. ever_married: YES/NO si el paciente se caso alguna vez\n",
    "7. work_type: indica el estado de empleabilidad del paciente\n",
    "8. Residence_type: indica si el paciente vive en una zona rural o urbana\n",
    "9. avg_glucose_level: nivel de glucosa en sangre en ayunas \n",
    "10. bmi: índice de masa corporal\n",
    "11. smoking_status: indica si el paciente ha fumado, fuma o se desconoce\n",
    "12. stroke: YES/NO si el paciente tuvo un accidente cerebrovascular\n",
    "\n",
    "\n",
    "https://www.kaggle.com/fedesoriano/stroke-prediction-dataset"
   ]
  },
  {
   "cell_type": "markdown",
   "metadata": {},
   "source": [
    "## Exploración inicial del dataset"
   ]
  },
  {
   "cell_type": "code",
   "execution_count": 2,
   "metadata": {},
   "outputs": [
    {
     "data": {
      "text/html": [
       "<div>\n",
       "<style scoped>\n",
       "    .dataframe tbody tr th:only-of-type {\n",
       "        vertical-align: middle;\n",
       "    }\n",
       "\n",
       "    .dataframe tbody tr th {\n",
       "        vertical-align: top;\n",
       "    }\n",
       "\n",
       "    .dataframe thead th {\n",
       "        text-align: right;\n",
       "    }\n",
       "</style>\n",
       "<table border=\"1\" class=\"dataframe\">\n",
       "  <thead>\n",
       "    <tr style=\"text-align: right;\">\n",
       "      <th></th>\n",
       "      <th>id</th>\n",
       "      <th>gender</th>\n",
       "      <th>age</th>\n",
       "      <th>hypertension</th>\n",
       "      <th>heart_disease</th>\n",
       "      <th>ever_married</th>\n",
       "      <th>work_type</th>\n",
       "      <th>Residence_type</th>\n",
       "      <th>avg_glucose_level</th>\n",
       "      <th>bmi</th>\n",
       "      <th>smoking_status</th>\n",
       "      <th>stroke</th>\n",
       "    </tr>\n",
       "  </thead>\n",
       "  <tbody>\n",
       "    <tr>\n",
       "      <th>0</th>\n",
       "      <td>9046</td>\n",
       "      <td>Male</td>\n",
       "      <td>67.0</td>\n",
       "      <td>NO</td>\n",
       "      <td>YES</td>\n",
       "      <td>Yes</td>\n",
       "      <td>Private</td>\n",
       "      <td>Urban</td>\n",
       "      <td>228.69</td>\n",
       "      <td>36.6</td>\n",
       "      <td>formerly smoked</td>\n",
       "      <td>YES</td>\n",
       "    </tr>\n",
       "    <tr>\n",
       "      <th>1</th>\n",
       "      <td>51676</td>\n",
       "      <td>Female</td>\n",
       "      <td>61.0</td>\n",
       "      <td>NO</td>\n",
       "      <td>NO</td>\n",
       "      <td>Yes</td>\n",
       "      <td>Self-employed</td>\n",
       "      <td>Rural</td>\n",
       "      <td>202.21</td>\n",
       "      <td>NaN</td>\n",
       "      <td>never smoked</td>\n",
       "      <td>YES</td>\n",
       "    </tr>\n",
       "    <tr>\n",
       "      <th>2</th>\n",
       "      <td>31112</td>\n",
       "      <td>Male</td>\n",
       "      <td>80.0</td>\n",
       "      <td>NO</td>\n",
       "      <td>YES</td>\n",
       "      <td>Yes</td>\n",
       "      <td>Private</td>\n",
       "      <td>Rural</td>\n",
       "      <td>105.92</td>\n",
       "      <td>32.5</td>\n",
       "      <td>never smoked</td>\n",
       "      <td>YES</td>\n",
       "    </tr>\n",
       "    <tr>\n",
       "      <th>3</th>\n",
       "      <td>60182</td>\n",
       "      <td>Female</td>\n",
       "      <td>49.0</td>\n",
       "      <td>NO</td>\n",
       "      <td>NO</td>\n",
       "      <td>Yes</td>\n",
       "      <td>Private</td>\n",
       "      <td>Urban</td>\n",
       "      <td>171.23</td>\n",
       "      <td>34.4</td>\n",
       "      <td>smokes</td>\n",
       "      <td>YES</td>\n",
       "    </tr>\n",
       "    <tr>\n",
       "      <th>4</th>\n",
       "      <td>1665</td>\n",
       "      <td>Female</td>\n",
       "      <td>79.0</td>\n",
       "      <td>YES</td>\n",
       "      <td>NO</td>\n",
       "      <td>Yes</td>\n",
       "      <td>Self-employed</td>\n",
       "      <td>Rural</td>\n",
       "      <td>174.12</td>\n",
       "      <td>24.0</td>\n",
       "      <td>never smoked</td>\n",
       "      <td>YES</td>\n",
       "    </tr>\n",
       "  </tbody>\n",
       "</table>\n",
       "</div>"
      ],
      "text/plain": [
       "      id  gender   age hypertension heart_disease ever_married      work_type  \\\n",
       "0   9046    Male  67.0           NO           YES          Yes        Private   \n",
       "1  51676  Female  61.0           NO            NO          Yes  Self-employed   \n",
       "2  31112    Male  80.0           NO           YES          Yes        Private   \n",
       "3  60182  Female  49.0           NO            NO          Yes        Private   \n",
       "4   1665  Female  79.0          YES            NO          Yes  Self-employed   \n",
       "\n",
       "  Residence_type  avg_glucose_level   bmi   smoking_status stroke  \n",
       "0          Urban             228.69  36.6  formerly smoked    YES  \n",
       "1          Rural             202.21   NaN     never smoked    YES  \n",
       "2          Rural             105.92  32.5     never smoked    YES  \n",
       "3          Urban             171.23  34.4           smokes    YES  \n",
       "4          Rural             174.12  24.0     never smoked    YES  "
      ]
     },
     "execution_count": 2,
     "metadata": {},
     "output_type": "execute_result"
    }
   ],
   "source": [
    "# Cargamos el dataset\n",
    "df= pd.read_csv('..\\Downloads\\healthcare-dataset-stroke-data.csv', sep=';')\n",
    "df.head(5)"
   ]
  },
  {
   "cell_type": "code",
   "execution_count": 3,
   "metadata": {},
   "outputs": [
    {
     "data": {
      "text/plain": [
       "NO     0.95382\n",
       "YES    0.04618\n",
       "Name: stroke, dtype: float64"
      ]
     },
     "execution_count": 3,
     "metadata": {},
     "output_type": "execute_result"
    }
   ],
   "source": [
    "df['stroke'].value_counts(normalize = True)"
   ]
  },
  {
   "cell_type": "code",
   "execution_count": 4,
   "metadata": {},
   "outputs": [
    {
     "data": {
      "text/html": [
       "<div>\n",
       "<style scoped>\n",
       "    .dataframe tbody tr th:only-of-type {\n",
       "        vertical-align: middle;\n",
       "    }\n",
       "\n",
       "    .dataframe tbody tr th {\n",
       "        vertical-align: top;\n",
       "    }\n",
       "\n",
       "    .dataframe thead th {\n",
       "        text-align: right;\n",
       "    }\n",
       "</style>\n",
       "<table border=\"1\" class=\"dataframe\">\n",
       "  <thead>\n",
       "    <tr style=\"text-align: right;\">\n",
       "      <th></th>\n",
       "      <th>id</th>\n",
       "      <th>age</th>\n",
       "      <th>avg_glucose_level</th>\n",
       "      <th>bmi</th>\n",
       "    </tr>\n",
       "  </thead>\n",
       "  <tbody>\n",
       "    <tr>\n",
       "      <th>count</th>\n",
       "      <td>249.000000</td>\n",
       "      <td>249.000000</td>\n",
       "      <td>249.000000</td>\n",
       "      <td>209.000000</td>\n",
       "    </tr>\n",
       "    <tr>\n",
       "      <th>mean</th>\n",
       "      <td>37115.068273</td>\n",
       "      <td>67.728193</td>\n",
       "      <td>132.544739</td>\n",
       "      <td>30.471292</td>\n",
       "    </tr>\n",
       "    <tr>\n",
       "      <th>std</th>\n",
       "      <td>21993.344872</td>\n",
       "      <td>12.727419</td>\n",
       "      <td>61.921056</td>\n",
       "      <td>6.329452</td>\n",
       "    </tr>\n",
       "    <tr>\n",
       "      <th>min</th>\n",
       "      <td>210.000000</td>\n",
       "      <td>1.320000</td>\n",
       "      <td>56.110000</td>\n",
       "      <td>16.900000</td>\n",
       "    </tr>\n",
       "    <tr>\n",
       "      <th>25%</th>\n",
       "      <td>17013.000000</td>\n",
       "      <td>59.000000</td>\n",
       "      <td>79.790000</td>\n",
       "      <td>26.400000</td>\n",
       "    </tr>\n",
       "    <tr>\n",
       "      <th>50%</th>\n",
       "      <td>36706.000000</td>\n",
       "      <td>71.000000</td>\n",
       "      <td>105.220000</td>\n",
       "      <td>29.700000</td>\n",
       "    </tr>\n",
       "    <tr>\n",
       "      <th>75%</th>\n",
       "      <td>56669.000000</td>\n",
       "      <td>78.000000</td>\n",
       "      <td>196.710000</td>\n",
       "      <td>33.700000</td>\n",
       "    </tr>\n",
       "    <tr>\n",
       "      <th>max</th>\n",
       "      <td>72918.000000</td>\n",
       "      <td>82.000000</td>\n",
       "      <td>271.740000</td>\n",
       "      <td>56.600000</td>\n",
       "    </tr>\n",
       "  </tbody>\n",
       "</table>\n",
       "</div>"
      ],
      "text/plain": [
       "                 id         age  avg_glucose_level         bmi\n",
       "count    249.000000  249.000000         249.000000  209.000000\n",
       "mean   37115.068273   67.728193         132.544739   30.471292\n",
       "std    21993.344872   12.727419          61.921056    6.329452\n",
       "min      210.000000    1.320000          56.110000   16.900000\n",
       "25%    17013.000000   59.000000          79.790000   26.400000\n",
       "50%    36706.000000   71.000000         105.220000   29.700000\n",
       "75%    56669.000000   78.000000         196.710000   33.700000\n",
       "max    72918.000000   82.000000         271.740000   56.600000"
      ]
     },
     "execution_count": 4,
     "metadata": {},
     "output_type": "execute_result"
    }
   ],
   "source": [
    "df[df['stroke']== 'YES'].describe()"
   ]
  },
  {
   "cell_type": "markdown",
   "metadata": {},
   "source": [
    "Procedemos a inspeccionarlo, en busca de valores faltantes, datos incongruentes y posibilidades de cambios."
   ]
  },
  {
   "cell_type": "code",
   "execution_count": 5,
   "metadata": {},
   "outputs": [
    {
     "name": "stdout",
     "output_type": "stream",
     "text": [
      "<class 'pandas.core.frame.DataFrame'>\n",
      "RangeIndex: 5392 entries, 0 to 5391\n",
      "Data columns (total 12 columns):\n",
      " #   Column             Non-Null Count  Dtype  \n",
      "---  ------             --------------  -----  \n",
      " 0   id                 5392 non-null   int64  \n",
      " 1   gender             5392 non-null   object \n",
      " 2   age                5392 non-null   float64\n",
      " 3   hypertension       5392 non-null   object \n",
      " 4   heart_disease      5392 non-null   object \n",
      " 5   ever_married       5392 non-null   object \n",
      " 6   work_type          5392 non-null   object \n",
      " 7   Residence_type     5392 non-null   object \n",
      " 8   avg_glucose_level  5392 non-null   float64\n",
      " 9   bmi                5182 non-null   float64\n",
      " 10  smoking_status     5392 non-null   object \n",
      " 11  stroke             5392 non-null   object \n",
      "dtypes: float64(3), int64(1), object(8)\n",
      "memory usage: 505.6+ KB\n"
     ]
    }
   ],
   "source": [
    "df.info()"
   ]
  },
  {
   "cell_type": "markdown",
   "metadata": {},
   "source": [
    "### Búsqueda de nulos y datos faltantes"
   ]
  },
  {
   "cell_type": "code",
   "execution_count": 6,
   "metadata": {},
   "outputs": [
    {
     "data": {
      "text/plain": [
       "never smoked       1997\n",
       "Unknown            1634\n",
       "formerly smoked     929\n",
       "smokes              832\n",
       "Name: smoking_status, dtype: int64"
      ]
     },
     "execution_count": 6,
     "metadata": {},
     "output_type": "execute_result"
    }
   ],
   "source": [
    "df[\"smoking_status\"].value_counts()"
   ]
  },
  {
   "cell_type": "markdown",
   "metadata": {},
   "source": [
    "Vemos que la tabla posee gran cantidad de datos \"Unknown\" para la categoría de fumador. Esto será un punto a tener en cuenta más adelante.\n"
   ]
  },
  {
   "cell_type": "code",
   "execution_count": 7,
   "metadata": {},
   "outputs": [
    {
     "data": {
      "text/html": [
       "<style  type=\"text/css\" >\n",
       "</style><table id=\"T_957dd7dc_8051_11eb_b60d_34f64b5177cc\" ><thead>    <tr>        <th class=\"index_name level0\" >stroke</th>        <th class=\"col_heading level0 col0\" >NO</th>        <th class=\"col_heading level0 col1\" >YES</th>        <th class=\"col_heading level0 col2\" >All</th>    </tr>    <tr>        <th class=\"index_name level0\" >smoking_status</th>        <th class=\"blank\" ></th>        <th class=\"blank\" ></th>        <th class=\"blank\" ></th>    </tr></thead><tbody>\n",
       "                <tr>\n",
       "                        <th id=\"T_957dd7dc_8051_11eb_b60d_34f64b5177cclevel0_row0\" class=\"row_heading level0 row0\" >Unknown</th>\n",
       "                        <td id=\"T_957dd7dc_8051_11eb_b60d_34f64b5177ccrow0_col0\" class=\"data row0 col0\" >30.86%</td>\n",
       "                        <td id=\"T_957dd7dc_8051_11eb_b60d_34f64b5177ccrow0_col1\" class=\"data row0 col1\" >18.88%</td>\n",
       "                        <td id=\"T_957dd7dc_8051_11eb_b60d_34f64b5177ccrow0_col2\" class=\"data row0 col2\" >30.30%</td>\n",
       "            </tr>\n",
       "            <tr>\n",
       "                        <th id=\"T_957dd7dc_8051_11eb_b60d_34f64b5177cclevel0_row1\" class=\"row_heading level0 row1\" >formerly smoked</th>\n",
       "                        <td id=\"T_957dd7dc_8051_11eb_b60d_34f64b5177ccrow1_col0\" class=\"data row1 col0\" >16.70%</td>\n",
       "                        <td id=\"T_957dd7dc_8051_11eb_b60d_34f64b5177ccrow1_col1\" class=\"data row1 col1\" >28.11%</td>\n",
       "                        <td id=\"T_957dd7dc_8051_11eb_b60d_34f64b5177ccrow1_col2\" class=\"data row1 col2\" >17.23%</td>\n",
       "            </tr>\n",
       "            <tr>\n",
       "                        <th id=\"T_957dd7dc_8051_11eb_b60d_34f64b5177cclevel0_row2\" class=\"row_heading level0 row2\" >never smoked</th>\n",
       "                        <td id=\"T_957dd7dc_8051_11eb_b60d_34f64b5177ccrow2_col0\" class=\"data row2 col0\" >37.08%</td>\n",
       "                        <td id=\"T_957dd7dc_8051_11eb_b60d_34f64b5177ccrow2_col1\" class=\"data row2 col1\" >36.14%</td>\n",
       "                        <td id=\"T_957dd7dc_8051_11eb_b60d_34f64b5177ccrow2_col2\" class=\"data row2 col2\" >37.04%</td>\n",
       "            </tr>\n",
       "            <tr>\n",
       "                        <th id=\"T_957dd7dc_8051_11eb_b60d_34f64b5177cclevel0_row3\" class=\"row_heading level0 row3\" >smokes</th>\n",
       "                        <td id=\"T_957dd7dc_8051_11eb_b60d_34f64b5177ccrow3_col0\" class=\"data row3 col0\" >15.36%</td>\n",
       "                        <td id=\"T_957dd7dc_8051_11eb_b60d_34f64b5177ccrow3_col1\" class=\"data row3 col1\" >16.87%</td>\n",
       "                        <td id=\"T_957dd7dc_8051_11eb_b60d_34f64b5177ccrow3_col2\" class=\"data row3 col2\" >15.43%</td>\n",
       "            </tr>\n",
       "    </tbody></table>"
      ],
      "text/plain": [
       "<pandas.io.formats.style.Styler at 0x1d68179c548>"
      ]
     },
     "execution_count": 7,
     "metadata": {},
     "output_type": "execute_result"
    }
   ],
   "source": [
    "pd.crosstab(df.smoking_status.fillna('vacio'), df.stroke.fillna('vacio'), normalize='columns', margins=True).style.format('{:.2%}')"
   ]
  },
  {
   "cell_type": "code",
   "execution_count": 8,
   "metadata": {},
   "outputs": [
    {
     "data": {
      "text/plain": [
       "Unknown    504\n",
       "Name: smoking_status, dtype: int64"
      ]
     },
     "execution_count": 8,
     "metadata": {},
     "output_type": "execute_result"
    }
   ],
   "source": [
    "df[df['age']<10]['smoking_status'].value_counts()"
   ]
  },
  {
   "cell_type": "markdown",
   "metadata": {},
   "source": [
    "Vemos que el estado de si fuma para menores de diez años es Unknown, podemos imputar estos datos como never smoke, ya que es poco probable que fumen a esa edad."
   ]
  },
  {
   "cell_type": "code",
   "execution_count": 9,
   "metadata": {},
   "outputs": [],
   "source": [
    "df.loc[df.age < 10, 'smoking_status'] = 'never smoked'"
   ]
  },
  {
   "cell_type": "code",
   "execution_count": 10,
   "metadata": {},
   "outputs": [
    {
     "data": {
      "text/plain": [
       "never smoked    504\n",
       "Name: smoking_status, dtype: int64"
      ]
     },
     "execution_count": 10,
     "metadata": {},
     "output_type": "execute_result"
    }
   ],
   "source": [
    "df[df['age']<10]['smoking_status'].value_counts()"
   ]
  },
  {
   "cell_type": "markdown",
   "metadata": {},
   "source": [
    "Chequeamos si el dataframe posee valores nulos en alguna de las columnas"
   ]
  },
  {
   "cell_type": "code",
   "execution_count": 11,
   "metadata": {},
   "outputs": [
    {
     "data": {
      "text/plain": [
       "id                     0\n",
       "gender                 0\n",
       "age                    0\n",
       "hypertension           0\n",
       "heart_disease          0\n",
       "ever_married           0\n",
       "work_type              0\n",
       "Residence_type         0\n",
       "avg_glucose_level      0\n",
       "bmi                  210\n",
       "smoking_status         0\n",
       "stroke                 0\n",
       "dtype: int64"
      ]
     },
     "execution_count": 11,
     "metadata": {},
     "output_type": "execute_result"
    }
   ],
   "source": [
    "df.isna().sum()"
   ]
  },
  {
   "cell_type": "markdown",
   "metadata": {},
   "source": [
    "Podemos ver que en BMI tenemos valores nulos. Vamos a dropearlos ya que no son una gran cantidad y es una medida dificil de imputar de otra forma"
   ]
  },
  {
   "cell_type": "code",
   "execution_count": 12,
   "metadata": {},
   "outputs": [
    {
     "data": {
      "text/html": [
       "<div>\n",
       "<style scoped>\n",
       "    .dataframe tbody tr th:only-of-type {\n",
       "        vertical-align: middle;\n",
       "    }\n",
       "\n",
       "    .dataframe tbody tr th {\n",
       "        vertical-align: top;\n",
       "    }\n",
       "\n",
       "    .dataframe thead th {\n",
       "        text-align: right;\n",
       "    }\n",
       "</style>\n",
       "<table border=\"1\" class=\"dataframe\">\n",
       "  <thead>\n",
       "    <tr style=\"text-align: right;\">\n",
       "      <th></th>\n",
       "      <th>id</th>\n",
       "      <th>gender</th>\n",
       "      <th>age</th>\n",
       "      <th>hypertension</th>\n",
       "      <th>heart_disease</th>\n",
       "      <th>ever_married</th>\n",
       "      <th>work_type</th>\n",
       "      <th>Residence_type</th>\n",
       "      <th>avg_glucose_level</th>\n",
       "      <th>bmi</th>\n",
       "      <th>smoking_status</th>\n",
       "      <th>stroke</th>\n",
       "    </tr>\n",
       "  </thead>\n",
       "  <tbody>\n",
       "    <tr>\n",
       "      <th>0</th>\n",
       "      <td>9046</td>\n",
       "      <td>Male</td>\n",
       "      <td>67.0</td>\n",
       "      <td>NO</td>\n",
       "      <td>YES</td>\n",
       "      <td>Yes</td>\n",
       "      <td>Private</td>\n",
       "      <td>Urban</td>\n",
       "      <td>228.69</td>\n",
       "      <td>36.6</td>\n",
       "      <td>formerly smoked</td>\n",
       "      <td>YES</td>\n",
       "    </tr>\n",
       "    <tr>\n",
       "      <th>1</th>\n",
       "      <td>51676</td>\n",
       "      <td>Female</td>\n",
       "      <td>61.0</td>\n",
       "      <td>NO</td>\n",
       "      <td>NO</td>\n",
       "      <td>Yes</td>\n",
       "      <td>Self-employed</td>\n",
       "      <td>Rural</td>\n",
       "      <td>202.21</td>\n",
       "      <td>NaN</td>\n",
       "      <td>never smoked</td>\n",
       "      <td>YES</td>\n",
       "    </tr>\n",
       "    <tr>\n",
       "      <th>2</th>\n",
       "      <td>31112</td>\n",
       "      <td>Male</td>\n",
       "      <td>80.0</td>\n",
       "      <td>NO</td>\n",
       "      <td>YES</td>\n",
       "      <td>Yes</td>\n",
       "      <td>Private</td>\n",
       "      <td>Rural</td>\n",
       "      <td>105.92</td>\n",
       "      <td>32.5</td>\n",
       "      <td>never smoked</td>\n",
       "      <td>YES</td>\n",
       "    </tr>\n",
       "    <tr>\n",
       "      <th>3</th>\n",
       "      <td>60182</td>\n",
       "      <td>Female</td>\n",
       "      <td>49.0</td>\n",
       "      <td>NO</td>\n",
       "      <td>NO</td>\n",
       "      <td>Yes</td>\n",
       "      <td>Private</td>\n",
       "      <td>Urban</td>\n",
       "      <td>171.23</td>\n",
       "      <td>34.4</td>\n",
       "      <td>smokes</td>\n",
       "      <td>YES</td>\n",
       "    </tr>\n",
       "    <tr>\n",
       "      <th>4</th>\n",
       "      <td>1665</td>\n",
       "      <td>Female</td>\n",
       "      <td>79.0</td>\n",
       "      <td>YES</td>\n",
       "      <td>NO</td>\n",
       "      <td>Yes</td>\n",
       "      <td>Self-employed</td>\n",
       "      <td>Rural</td>\n",
       "      <td>174.12</td>\n",
       "      <td>24.0</td>\n",
       "      <td>never smoked</td>\n",
       "      <td>YES</td>\n",
       "    </tr>\n",
       "  </tbody>\n",
       "</table>\n",
       "</div>"
      ],
      "text/plain": [
       "      id  gender   age hypertension heart_disease ever_married      work_type  \\\n",
       "0   9046    Male  67.0           NO           YES          Yes        Private   \n",
       "1  51676  Female  61.0           NO            NO          Yes  Self-employed   \n",
       "2  31112    Male  80.0           NO           YES          Yes        Private   \n",
       "3  60182  Female  49.0           NO            NO          Yes        Private   \n",
       "4   1665  Female  79.0          YES            NO          Yes  Self-employed   \n",
       "\n",
       "  Residence_type  avg_glucose_level   bmi   smoking_status stroke  \n",
       "0          Urban             228.69  36.6  formerly smoked    YES  \n",
       "1          Rural             202.21   NaN     never smoked    YES  \n",
       "2          Rural             105.92  32.5     never smoked    YES  \n",
       "3          Urban             171.23  34.4           smokes    YES  \n",
       "4          Rural             174.12  24.0     never smoked    YES  "
      ]
     },
     "execution_count": 12,
     "metadata": {},
     "output_type": "execute_result"
    }
   ],
   "source": [
    "# Dropeo de valores nulos de de BMI\n",
    "df['bmi'] = df['bmi'].apply(pd.to_numeric, errors = 'coerce') \n",
    "df.head(5)"
   ]
  },
  {
   "cell_type": "code",
   "execution_count": 13,
   "metadata": {},
   "outputs": [
    {
     "data": {
      "text/html": [
       "<div>\n",
       "<style scoped>\n",
       "    .dataframe tbody tr th:only-of-type {\n",
       "        vertical-align: middle;\n",
       "    }\n",
       "\n",
       "    .dataframe tbody tr th {\n",
       "        vertical-align: top;\n",
       "    }\n",
       "\n",
       "    .dataframe thead th {\n",
       "        text-align: right;\n",
       "    }\n",
       "</style>\n",
       "<table border=\"1\" class=\"dataframe\">\n",
       "  <thead>\n",
       "    <tr style=\"text-align: right;\">\n",
       "      <th></th>\n",
       "      <th>id</th>\n",
       "      <th>gender</th>\n",
       "      <th>age</th>\n",
       "      <th>hypertension</th>\n",
       "      <th>heart_disease</th>\n",
       "      <th>ever_married</th>\n",
       "      <th>work_type</th>\n",
       "      <th>Residence_type</th>\n",
       "      <th>avg_glucose_level</th>\n",
       "      <th>bmi</th>\n",
       "      <th>smoking_status</th>\n",
       "      <th>stroke</th>\n",
       "    </tr>\n",
       "  </thead>\n",
       "  <tbody>\n",
       "    <tr>\n",
       "      <th>0</th>\n",
       "      <td>9046</td>\n",
       "      <td>Male</td>\n",
       "      <td>67.0</td>\n",
       "      <td>NO</td>\n",
       "      <td>YES</td>\n",
       "      <td>Yes</td>\n",
       "      <td>Private</td>\n",
       "      <td>Urban</td>\n",
       "      <td>228.69</td>\n",
       "      <td>36.6</td>\n",
       "      <td>formerly smoked</td>\n",
       "      <td>YES</td>\n",
       "    </tr>\n",
       "    <tr>\n",
       "      <th>1</th>\n",
       "      <td>31112</td>\n",
       "      <td>Male</td>\n",
       "      <td>80.0</td>\n",
       "      <td>NO</td>\n",
       "      <td>YES</td>\n",
       "      <td>Yes</td>\n",
       "      <td>Private</td>\n",
       "      <td>Rural</td>\n",
       "      <td>105.92</td>\n",
       "      <td>32.5</td>\n",
       "      <td>never smoked</td>\n",
       "      <td>YES</td>\n",
       "    </tr>\n",
       "    <tr>\n",
       "      <th>2</th>\n",
       "      <td>60182</td>\n",
       "      <td>Female</td>\n",
       "      <td>49.0</td>\n",
       "      <td>NO</td>\n",
       "      <td>NO</td>\n",
       "      <td>Yes</td>\n",
       "      <td>Private</td>\n",
       "      <td>Urban</td>\n",
       "      <td>171.23</td>\n",
       "      <td>34.4</td>\n",
       "      <td>smokes</td>\n",
       "      <td>YES</td>\n",
       "    </tr>\n",
       "    <tr>\n",
       "      <th>3</th>\n",
       "      <td>1665</td>\n",
       "      <td>Female</td>\n",
       "      <td>79.0</td>\n",
       "      <td>YES</td>\n",
       "      <td>NO</td>\n",
       "      <td>Yes</td>\n",
       "      <td>Self-employed</td>\n",
       "      <td>Rural</td>\n",
       "      <td>174.12</td>\n",
       "      <td>24.0</td>\n",
       "      <td>never smoked</td>\n",
       "      <td>YES</td>\n",
       "    </tr>\n",
       "    <tr>\n",
       "      <th>4</th>\n",
       "      <td>56669</td>\n",
       "      <td>Male</td>\n",
       "      <td>81.0</td>\n",
       "      <td>NO</td>\n",
       "      <td>NO</td>\n",
       "      <td>Yes</td>\n",
       "      <td>Private</td>\n",
       "      <td>Urban</td>\n",
       "      <td>186.21</td>\n",
       "      <td>29.0</td>\n",
       "      <td>formerly smoked</td>\n",
       "      <td>YES</td>\n",
       "    </tr>\n",
       "  </tbody>\n",
       "</table>\n",
       "</div>"
      ],
      "text/plain": [
       "      id  gender   age hypertension heart_disease ever_married      work_type  \\\n",
       "0   9046    Male  67.0           NO           YES          Yes        Private   \n",
       "1  31112    Male  80.0           NO           YES          Yes        Private   \n",
       "2  60182  Female  49.0           NO            NO          Yes        Private   \n",
       "3   1665  Female  79.0          YES            NO          Yes  Self-employed   \n",
       "4  56669    Male  81.0           NO            NO          Yes        Private   \n",
       "\n",
       "  Residence_type  avg_glucose_level   bmi   smoking_status stroke  \n",
       "0          Urban             228.69  36.6  formerly smoked    YES  \n",
       "1          Rural             105.92  32.5     never smoked    YES  \n",
       "2          Urban             171.23  34.4           smokes    YES  \n",
       "3          Rural             174.12  24.0     never smoked    YES  \n",
       "4          Urban             186.21  29.0  formerly smoked    YES  "
      ]
     },
     "execution_count": 13,
     "metadata": {},
     "output_type": "execute_result"
    }
   ],
   "source": [
    "df = df.dropna(axis = 0) #eliminamos las filas con BMI = NaN\n",
    "df = df.reset_index(drop=True) #Reseteamos los indices del dataframe\n",
    "df.head(5) #chequeamos haber dropeado el primer NaN identificado"
   ]
  },
  {
   "cell_type": "code",
   "execution_count": 14,
   "metadata": {},
   "outputs": [
    {
     "name": "stdout",
     "output_type": "stream",
     "text": [
      "<class 'pandas.core.frame.DataFrame'>\n",
      "RangeIndex: 5182 entries, 0 to 5181\n",
      "Data columns (total 12 columns):\n",
      " #   Column             Non-Null Count  Dtype  \n",
      "---  ------             --------------  -----  \n",
      " 0   id                 5182 non-null   int64  \n",
      " 1   gender             5182 non-null   object \n",
      " 2   age                5182 non-null   float64\n",
      " 3   hypertension       5182 non-null   object \n",
      " 4   heart_disease      5182 non-null   object \n",
      " 5   ever_married       5182 non-null   object \n",
      " 6   work_type          5182 non-null   object \n",
      " 7   Residence_type     5182 non-null   object \n",
      " 8   avg_glucose_level  5182 non-null   float64\n",
      " 9   bmi                5182 non-null   float64\n",
      " 10  smoking_status     5182 non-null   object \n",
      " 11  stroke             5182 non-null   object \n",
      "dtypes: float64(3), int64(1), object(8)\n",
      "memory usage: 485.9+ KB\n"
     ]
    }
   ],
   "source": [
    "df.info()"
   ]
  },
  {
   "cell_type": "markdown",
   "metadata": {},
   "source": [
    "Además de los nulos, vemos si hay registros duplicados dentro del dataframe que podamos limpiar"
   ]
  },
  {
   "cell_type": "markdown",
   "metadata": {},
   "source": [
    "### Eliminación de duplicados"
   ]
  },
  {
   "cell_type": "code",
   "execution_count": 15,
   "metadata": {},
   "outputs": [
    {
     "data": {
      "text/plain": [
       "273"
      ]
     },
     "execution_count": 15,
     "metadata": {},
     "output_type": "execute_result"
    }
   ],
   "source": [
    "df.duplicated().sum()"
   ]
  },
  {
   "cell_type": "code",
   "execution_count": 16,
   "metadata": {},
   "outputs": [
    {
     "data": {
      "text/html": [
       "<div>\n",
       "<style scoped>\n",
       "    .dataframe tbody tr th:only-of-type {\n",
       "        vertical-align: middle;\n",
       "    }\n",
       "\n",
       "    .dataframe tbody tr th {\n",
       "        vertical-align: top;\n",
       "    }\n",
       "\n",
       "    .dataframe thead th {\n",
       "        text-align: right;\n",
       "    }\n",
       "</style>\n",
       "<table border=\"1\" class=\"dataframe\">\n",
       "  <thead>\n",
       "    <tr style=\"text-align: right;\">\n",
       "      <th></th>\n",
       "      <th>id</th>\n",
       "      <th>gender</th>\n",
       "      <th>age</th>\n",
       "      <th>hypertension</th>\n",
       "      <th>heart_disease</th>\n",
       "      <th>ever_married</th>\n",
       "      <th>work_type</th>\n",
       "      <th>Residence_type</th>\n",
       "      <th>avg_glucose_level</th>\n",
       "      <th>bmi</th>\n",
       "      <th>smoking_status</th>\n",
       "      <th>stroke</th>\n",
       "    </tr>\n",
       "  </thead>\n",
       "  <tbody>\n",
       "    <tr>\n",
       "      <th>4909</th>\n",
       "      <td>42091</td>\n",
       "      <td>Male</td>\n",
       "      <td>32.00</td>\n",
       "      <td>NO</td>\n",
       "      <td>NO</td>\n",
       "      <td>Yes</td>\n",
       "      <td>Govt_job</td>\n",
       "      <td>Rural</td>\n",
       "      <td>83.01</td>\n",
       "      <td>25.8</td>\n",
       "      <td>smokes</td>\n",
       "      <td>NO</td>\n",
       "    </tr>\n",
       "    <tr>\n",
       "      <th>4910</th>\n",
       "      <td>66067</td>\n",
       "      <td>Male</td>\n",
       "      <td>66.00</td>\n",
       "      <td>NO</td>\n",
       "      <td>NO</td>\n",
       "      <td>Yes</td>\n",
       "      <td>Private</td>\n",
       "      <td>Rural</td>\n",
       "      <td>67.92</td>\n",
       "      <td>31.1</td>\n",
       "      <td>formerly smoked</td>\n",
       "      <td>NO</td>\n",
       "    </tr>\n",
       "    <tr>\n",
       "      <th>4911</th>\n",
       "      <td>50222</td>\n",
       "      <td>Female</td>\n",
       "      <td>22.00</td>\n",
       "      <td>NO</td>\n",
       "      <td>NO</td>\n",
       "      <td>No</td>\n",
       "      <td>Private</td>\n",
       "      <td>Rural</td>\n",
       "      <td>74.99</td>\n",
       "      <td>27.9</td>\n",
       "      <td>smokes</td>\n",
       "      <td>NO</td>\n",
       "    </tr>\n",
       "    <tr>\n",
       "      <th>4912</th>\n",
       "      <td>41214</td>\n",
       "      <td>Female</td>\n",
       "      <td>1.32</td>\n",
       "      <td>NO</td>\n",
       "      <td>NO</td>\n",
       "      <td>No</td>\n",
       "      <td>children</td>\n",
       "      <td>Rural</td>\n",
       "      <td>75.22</td>\n",
       "      <td>18.6</td>\n",
       "      <td>never smoked</td>\n",
       "      <td>NO</td>\n",
       "    </tr>\n",
       "    <tr>\n",
       "      <th>4913</th>\n",
       "      <td>72386</td>\n",
       "      <td>Female</td>\n",
       "      <td>20.00</td>\n",
       "      <td>NO</td>\n",
       "      <td>NO</td>\n",
       "      <td>No</td>\n",
       "      <td>Private</td>\n",
       "      <td>Urban</td>\n",
       "      <td>61.88</td>\n",
       "      <td>20.1</td>\n",
       "      <td>never smoked</td>\n",
       "      <td>NO</td>\n",
       "    </tr>\n",
       "    <tr>\n",
       "      <th>...</th>\n",
       "      <td>...</td>\n",
       "      <td>...</td>\n",
       "      <td>...</td>\n",
       "      <td>...</td>\n",
       "      <td>...</td>\n",
       "      <td>...</td>\n",
       "      <td>...</td>\n",
       "      <td>...</td>\n",
       "      <td>...</td>\n",
       "      <td>...</td>\n",
       "      <td>...</td>\n",
       "      <td>...</td>\n",
       "    </tr>\n",
       "    <tr>\n",
       "      <th>5177</th>\n",
       "      <td>14180</td>\n",
       "      <td>Female</td>\n",
       "      <td>13.00</td>\n",
       "      <td>NO</td>\n",
       "      <td>NO</td>\n",
       "      <td>No</td>\n",
       "      <td>children</td>\n",
       "      <td>Rural</td>\n",
       "      <td>103.08</td>\n",
       "      <td>18.6</td>\n",
       "      <td>Unknown</td>\n",
       "      <td>NO</td>\n",
       "    </tr>\n",
       "    <tr>\n",
       "      <th>5178</th>\n",
       "      <td>44873</td>\n",
       "      <td>Female</td>\n",
       "      <td>81.00</td>\n",
       "      <td>NO</td>\n",
       "      <td>NO</td>\n",
       "      <td>Yes</td>\n",
       "      <td>Self-employed</td>\n",
       "      <td>Urban</td>\n",
       "      <td>125.20</td>\n",
       "      <td>40.0</td>\n",
       "      <td>never smoked</td>\n",
       "      <td>NO</td>\n",
       "    </tr>\n",
       "    <tr>\n",
       "      <th>5179</th>\n",
       "      <td>19723</td>\n",
       "      <td>Female</td>\n",
       "      <td>35.00</td>\n",
       "      <td>NO</td>\n",
       "      <td>NO</td>\n",
       "      <td>Yes</td>\n",
       "      <td>Self-employed</td>\n",
       "      <td>Rural</td>\n",
       "      <td>82.99</td>\n",
       "      <td>30.6</td>\n",
       "      <td>never smoked</td>\n",
       "      <td>NO</td>\n",
       "    </tr>\n",
       "    <tr>\n",
       "      <th>5180</th>\n",
       "      <td>37544</td>\n",
       "      <td>Male</td>\n",
       "      <td>51.00</td>\n",
       "      <td>NO</td>\n",
       "      <td>NO</td>\n",
       "      <td>Yes</td>\n",
       "      <td>Private</td>\n",
       "      <td>Rural</td>\n",
       "      <td>166.29</td>\n",
       "      <td>25.6</td>\n",
       "      <td>formerly smoked</td>\n",
       "      <td>NO</td>\n",
       "    </tr>\n",
       "    <tr>\n",
       "      <th>5181</th>\n",
       "      <td>44679</td>\n",
       "      <td>Female</td>\n",
       "      <td>44.00</td>\n",
       "      <td>NO</td>\n",
       "      <td>NO</td>\n",
       "      <td>Yes</td>\n",
       "      <td>Govt_job</td>\n",
       "      <td>Urban</td>\n",
       "      <td>85.28</td>\n",
       "      <td>26.2</td>\n",
       "      <td>Unknown</td>\n",
       "      <td>NO</td>\n",
       "    </tr>\n",
       "  </tbody>\n",
       "</table>\n",
       "<p>273 rows × 12 columns</p>\n",
       "</div>"
      ],
      "text/plain": [
       "         id  gender    age hypertension heart_disease ever_married  \\\n",
       "4909  42091    Male  32.00           NO            NO          Yes   \n",
       "4910  66067    Male  66.00           NO            NO          Yes   \n",
       "4911  50222  Female  22.00           NO            NO           No   \n",
       "4912  41214  Female   1.32           NO            NO           No   \n",
       "4913  72386  Female  20.00           NO            NO           No   \n",
       "...     ...     ...    ...          ...           ...          ...   \n",
       "5177  14180  Female  13.00           NO            NO           No   \n",
       "5178  44873  Female  81.00           NO            NO          Yes   \n",
       "5179  19723  Female  35.00           NO            NO          Yes   \n",
       "5180  37544    Male  51.00           NO            NO          Yes   \n",
       "5181  44679  Female  44.00           NO            NO          Yes   \n",
       "\n",
       "          work_type Residence_type  avg_glucose_level   bmi   smoking_status  \\\n",
       "4909       Govt_job          Rural              83.01  25.8           smokes   \n",
       "4910        Private          Rural              67.92  31.1  formerly smoked   \n",
       "4911        Private          Rural              74.99  27.9           smokes   \n",
       "4912       children          Rural              75.22  18.6     never smoked   \n",
       "4913        Private          Urban              61.88  20.1     never smoked   \n",
       "...             ...            ...                ...   ...              ...   \n",
       "5177       children          Rural             103.08  18.6          Unknown   \n",
       "5178  Self-employed          Urban             125.20  40.0     never smoked   \n",
       "5179  Self-employed          Rural              82.99  30.6     never smoked   \n",
       "5180        Private          Rural             166.29  25.6  formerly smoked   \n",
       "5181       Govt_job          Urban              85.28  26.2          Unknown   \n",
       "\n",
       "     stroke  \n",
       "4909     NO  \n",
       "4910     NO  \n",
       "4911     NO  \n",
       "4912     NO  \n",
       "4913     NO  \n",
       "...     ...  \n",
       "5177     NO  \n",
       "5178     NO  \n",
       "5179     NO  \n",
       "5180     NO  \n",
       "5181     NO  \n",
       "\n",
       "[273 rows x 12 columns]"
      ]
     },
     "execution_count": 16,
     "metadata": {},
     "output_type": "execute_result"
    }
   ],
   "source": [
    "df[df.duplicated()]"
   ]
  },
  {
   "cell_type": "markdown",
   "metadata": {},
   "source": [
    "Efectivamente hay duplicados y procedemos a eliminarlos."
   ]
  },
  {
   "cell_type": "code",
   "execution_count": 17,
   "metadata": {},
   "outputs": [],
   "source": [
    "df.drop_duplicates(keep = \"first\", inplace = True)\n",
    "df = df.reset_index(drop=True) #Reseteamos los indices del dataframe"
   ]
  },
  {
   "cell_type": "code",
   "execution_count": 18,
   "metadata": {},
   "outputs": [
    {
     "name": "stdout",
     "output_type": "stream",
     "text": [
      "<class 'pandas.core.frame.DataFrame'>\n",
      "RangeIndex: 4909 entries, 0 to 4908\n",
      "Data columns (total 12 columns):\n",
      " #   Column             Non-Null Count  Dtype  \n",
      "---  ------             --------------  -----  \n",
      " 0   id                 4909 non-null   int64  \n",
      " 1   gender             4909 non-null   object \n",
      " 2   age                4909 non-null   float64\n",
      " 3   hypertension       4909 non-null   object \n",
      " 4   heart_disease      4909 non-null   object \n",
      " 5   ever_married       4909 non-null   object \n",
      " 6   work_type          4909 non-null   object \n",
      " 7   Residence_type     4909 non-null   object \n",
      " 8   avg_glucose_level  4909 non-null   float64\n",
      " 9   bmi                4909 non-null   float64\n",
      " 10  smoking_status     4909 non-null   object \n",
      " 11  stroke             4909 non-null   object \n",
      "dtypes: float64(3), int64(1), object(8)\n",
      "memory usage: 460.3+ KB\n"
     ]
    }
   ],
   "source": [
    "df.info()"
   ]
  },
  {
   "cell_type": "markdown",
   "metadata": {},
   "source": [
    "Veamos ahora si hay valores que podamos considerar como atípicos, alguno de los registros numéricos."
   ]
  },
  {
   "cell_type": "code",
   "execution_count": 19,
   "metadata": {},
   "outputs": [
    {
     "data": {
      "text/html": [
       "<div>\n",
       "<style scoped>\n",
       "    .dataframe tbody tr th:only-of-type {\n",
       "        vertical-align: middle;\n",
       "    }\n",
       "\n",
       "    .dataframe tbody tr th {\n",
       "        vertical-align: top;\n",
       "    }\n",
       "\n",
       "    .dataframe thead th {\n",
       "        text-align: right;\n",
       "    }\n",
       "</style>\n",
       "<table border=\"1\" class=\"dataframe\">\n",
       "  <thead>\n",
       "    <tr style=\"text-align: right;\">\n",
       "      <th></th>\n",
       "      <th>id</th>\n",
       "      <th>age</th>\n",
       "      <th>avg_glucose_level</th>\n",
       "      <th>bmi</th>\n",
       "    </tr>\n",
       "  </thead>\n",
       "  <tbody>\n",
       "    <tr>\n",
       "      <th>count</th>\n",
       "      <td>4909.000000</td>\n",
       "      <td>4909.000000</td>\n",
       "      <td>4909.000000</td>\n",
       "      <td>4909.000000</td>\n",
       "    </tr>\n",
       "    <tr>\n",
       "      <th>mean</th>\n",
       "      <td>37064.313506</td>\n",
       "      <td>42.865374</td>\n",
       "      <td>105.305150</td>\n",
       "      <td>28.893237</td>\n",
       "    </tr>\n",
       "    <tr>\n",
       "      <th>std</th>\n",
       "      <td>20995.098457</td>\n",
       "      <td>22.555115</td>\n",
       "      <td>44.424341</td>\n",
       "      <td>7.854067</td>\n",
       "    </tr>\n",
       "    <tr>\n",
       "      <th>min</th>\n",
       "      <td>77.000000</td>\n",
       "      <td>0.080000</td>\n",
       "      <td>55.120000</td>\n",
       "      <td>10.300000</td>\n",
       "    </tr>\n",
       "    <tr>\n",
       "      <th>25%</th>\n",
       "      <td>18605.000000</td>\n",
       "      <td>25.000000</td>\n",
       "      <td>77.070000</td>\n",
       "      <td>23.500000</td>\n",
       "    </tr>\n",
       "    <tr>\n",
       "      <th>50%</th>\n",
       "      <td>37608.000000</td>\n",
       "      <td>44.000000</td>\n",
       "      <td>91.680000</td>\n",
       "      <td>28.100000</td>\n",
       "    </tr>\n",
       "    <tr>\n",
       "      <th>75%</th>\n",
       "      <td>55220.000000</td>\n",
       "      <td>60.000000</td>\n",
       "      <td>113.570000</td>\n",
       "      <td>33.100000</td>\n",
       "    </tr>\n",
       "    <tr>\n",
       "      <th>max</th>\n",
       "      <td>72940.000000</td>\n",
       "      <td>82.000000</td>\n",
       "      <td>271.740000</td>\n",
       "      <td>97.600000</td>\n",
       "    </tr>\n",
       "  </tbody>\n",
       "</table>\n",
       "</div>"
      ],
      "text/plain": [
       "                 id          age  avg_glucose_level          bmi\n",
       "count   4909.000000  4909.000000        4909.000000  4909.000000\n",
       "mean   37064.313506    42.865374         105.305150    28.893237\n",
       "std    20995.098457    22.555115          44.424341     7.854067\n",
       "min       77.000000     0.080000          55.120000    10.300000\n",
       "25%    18605.000000    25.000000          77.070000    23.500000\n",
       "50%    37608.000000    44.000000          91.680000    28.100000\n",
       "75%    55220.000000    60.000000         113.570000    33.100000\n",
       "max    72940.000000    82.000000         271.740000    97.600000"
      ]
     },
     "execution_count": 19,
     "metadata": {},
     "output_type": "execute_result"
    }
   ],
   "source": [
    "df.describe()"
   ]
  },
  {
   "cell_type": "markdown",
   "metadata": {},
   "source": [
    "Revisamos los valores min y max de bmi en busca de outlier"
   ]
  },
  {
   "cell_type": "code",
   "execution_count": 20,
   "metadata": {},
   "outputs": [
    {
     "data": {
      "text/html": [
       "<div>\n",
       "<style scoped>\n",
       "    .dataframe tbody tr th:only-of-type {\n",
       "        vertical-align: middle;\n",
       "    }\n",
       "\n",
       "    .dataframe tbody tr th {\n",
       "        vertical-align: top;\n",
       "    }\n",
       "\n",
       "    .dataframe thead th {\n",
       "        text-align: right;\n",
       "    }\n",
       "</style>\n",
       "<table border=\"1\" class=\"dataframe\">\n",
       "  <thead>\n",
       "    <tr style=\"text-align: right;\">\n",
       "      <th></th>\n",
       "      <th>id</th>\n",
       "      <th>gender</th>\n",
       "      <th>age</th>\n",
       "      <th>hypertension</th>\n",
       "      <th>heart_disease</th>\n",
       "      <th>ever_married</th>\n",
       "      <th>work_type</th>\n",
       "      <th>Residence_type</th>\n",
       "      <th>avg_glucose_level</th>\n",
       "      <th>bmi</th>\n",
       "      <th>smoking_status</th>\n",
       "      <th>stroke</th>\n",
       "    </tr>\n",
       "  </thead>\n",
       "  <tbody>\n",
       "    <tr>\n",
       "      <th>2019</th>\n",
       "      <td>56420</td>\n",
       "      <td>Male</td>\n",
       "      <td>17.0</td>\n",
       "      <td>YES</td>\n",
       "      <td>NO</td>\n",
       "      <td>No</td>\n",
       "      <td>Private</td>\n",
       "      <td>Rural</td>\n",
       "      <td>61.67</td>\n",
       "      <td>97.6</td>\n",
       "      <td>Unknown</td>\n",
       "      <td>NO</td>\n",
       "    </tr>\n",
       "  </tbody>\n",
       "</table>\n",
       "</div>"
      ],
      "text/plain": [
       "         id gender   age hypertension heart_disease ever_married work_type  \\\n",
       "2019  56420   Male  17.0          YES            NO           No   Private   \n",
       "\n",
       "     Residence_type  avg_glucose_level   bmi smoking_status stroke  \n",
       "2019          Rural              61.67  97.6        Unknown     NO  "
      ]
     },
     "execution_count": 20,
     "metadata": {},
     "output_type": "execute_result"
    }
   ],
   "source": [
    "df[df['bmi']> 95]"
   ]
  },
  {
   "cell_type": "code",
   "execution_count": 21,
   "metadata": {},
   "outputs": [
    {
     "data": {
      "text/html": [
       "<div>\n",
       "<style scoped>\n",
       "    .dataframe tbody tr th:only-of-type {\n",
       "        vertical-align: middle;\n",
       "    }\n",
       "\n",
       "    .dataframe tbody tr th {\n",
       "        vertical-align: top;\n",
       "    }\n",
       "\n",
       "    .dataframe thead th {\n",
       "        text-align: right;\n",
       "    }\n",
       "</style>\n",
       "<table border=\"1\" class=\"dataframe\">\n",
       "  <thead>\n",
       "    <tr style=\"text-align: right;\">\n",
       "      <th></th>\n",
       "      <th>id</th>\n",
       "      <th>gender</th>\n",
       "      <th>age</th>\n",
       "      <th>hypertension</th>\n",
       "      <th>heart_disease</th>\n",
       "      <th>ever_married</th>\n",
       "      <th>work_type</th>\n",
       "      <th>Residence_type</th>\n",
       "      <th>avg_glucose_level</th>\n",
       "      <th>bmi</th>\n",
       "      <th>smoking_status</th>\n",
       "      <th>stroke</th>\n",
       "    </tr>\n",
       "  </thead>\n",
       "  <tbody>\n",
       "    <tr>\n",
       "      <th>1526</th>\n",
       "      <td>38043</td>\n",
       "      <td>Female</td>\n",
       "      <td>1.24</td>\n",
       "      <td>NO</td>\n",
       "      <td>NO</td>\n",
       "      <td>No</td>\n",
       "      <td>children</td>\n",
       "      <td>Rural</td>\n",
       "      <td>122.04</td>\n",
       "      <td>10.3</td>\n",
       "      <td>never smoked</td>\n",
       "      <td>NO</td>\n",
       "    </tr>\n",
       "  </tbody>\n",
       "</table>\n",
       "</div>"
      ],
      "text/plain": [
       "         id  gender   age hypertension heart_disease ever_married work_type  \\\n",
       "1526  38043  Female  1.24           NO            NO           No  children   \n",
       "\n",
       "     Residence_type  avg_glucose_level   bmi smoking_status stroke  \n",
       "1526          Rural             122.04  10.3   never smoked     NO  "
      ]
     },
     "execution_count": 21,
     "metadata": {},
     "output_type": "execute_result"
    }
   ],
   "source": [
    "df[df['bmi']< 11]"
   ]
  },
  {
   "cell_type": "markdown",
   "metadata": {},
   "source": [
    "Vamos a eliminar el dato de bmi max, ya que parece ser un outlier por la edad y nivel de glucosa normal, no podria tener ese alto bmi"
   ]
  },
  {
   "cell_type": "code",
   "execution_count": 22,
   "metadata": {},
   "outputs": [],
   "source": [
    "df.drop(2019, axis = 0, inplace = True)"
   ]
  },
  {
   "cell_type": "markdown",
   "metadata": {},
   "source": [
    "Vamos a revisar los valores en gender en busca de outliers"
   ]
  },
  {
   "cell_type": "code",
   "execution_count": 23,
   "metadata": {},
   "outputs": [
    {
     "data": {
      "text/plain": [
       "Female    2897\n",
       "Male      2010\n",
       "Other        1\n",
       "Name: gender, dtype: int64"
      ]
     },
     "execution_count": 23,
     "metadata": {},
     "output_type": "execute_result"
    }
   ],
   "source": [
    "df['gender'].value_counts()"
   ]
  },
  {
   "cell_type": "code",
   "execution_count": 24,
   "metadata": {},
   "outputs": [],
   "source": [
    "df[df['gender']=='Other']\n",
    "df.drop(2970, inplace = True) ##Dropeamos el gender = Other\n",
    "df = df.reset_index(drop=True) #Reseteamos los indices del dataframe"
   ]
  },
  {
   "cell_type": "markdown",
   "metadata": {},
   "source": [
    "#### Segmentación de variables "
   ]
  },
  {
   "cell_type": "markdown",
   "metadata": {},
   "source": [
    "Procedemos a realizar una segmentación de las variables de glucosa en sangre y el peso, para producir variables categoricas vinculadas a estas variables respaldandonos en información de la OMS"
   ]
  },
  {
   "cell_type": "code",
   "execution_count": 25,
   "metadata": {},
   "outputs": [],
   "source": [
    "df['Diabetes'] = pd.cut(df['avg_glucose_level'], [0, 100, 125, 500], labels = ['normal', 'prediabetes', 'diabetes'])"
   ]
  },
  {
   "cell_type": "code",
   "execution_count": 26,
   "metadata": {},
   "outputs": [],
   "source": [
    "df['Peso'] = pd.cut(df['bmi'],[18.5, 24.9, 29.9, 39.9, 200], labels = ['normal', 'sobrepeso', 'obesidad', 'obesidad extrema'])"
   ]
  },
  {
   "cell_type": "markdown",
   "metadata": {},
   "source": [
    "## Creación de columnas Dummies\n",
    "Procedemos a transformar las variable categóricas que consideramos importantes\n",
    "    \n"
   ]
  },
  {
   "cell_type": "code",
   "execution_count": 27,
   "metadata": {},
   "outputs": [],
   "source": [
    "dummy_tension = pd.get_dummies(df['hypertension'], drop_first = True)\n",
    "dummy_tension.rename(columns = {1:'Hipertension'}, inplace = True)\n"
   ]
  },
  {
   "cell_type": "code",
   "execution_count": 28,
   "metadata": {},
   "outputs": [],
   "source": [
    "dummy_heart = pd.get_dummies(df['heart_disease'], drop_first = True)\n",
    "dummy_heart.rename(columns = {1:'Cardiaco'}, inplace = True)\n"
   ]
  },
  {
   "cell_type": "code",
   "execution_count": 29,
   "metadata": {},
   "outputs": [],
   "source": [
    "dummy_married = pd.get_dummies(df['ever_married'], drop_first = True)\n"
   ]
  },
  {
   "cell_type": "code",
   "execution_count": 30,
   "metadata": {},
   "outputs": [],
   "source": [
    "dummy_residence = pd.get_dummies(df['Residence_type'], drop_first = True) \n",
    "#Nos interesa saber si vivir en la ciudad tambien es un valor que afecta la salud cardiaca de los pacientes\n"
   ]
  },
  {
   "cell_type": "code",
   "execution_count": 31,
   "metadata": {},
   "outputs": [],
   "source": [
    "dummy_stroke = pd.get_dummies(df['stroke'], drop_first = True)\n",
    "dummy_stroke.rename(columns = {1:'ACV'}, inplace = True)\n"
   ]
  },
  {
   "cell_type": "code",
   "execution_count": 32,
   "metadata": {},
   "outputs": [],
   "source": [
    "dummy_gender = pd.get_dummies(df['gender'], drop_first = True)\n"
   ]
  },
  {
   "cell_type": "code",
   "execution_count": 33,
   "metadata": {},
   "outputs": [],
   "source": [
    "dummy_work = pd.get_dummies(df['work_type'], drop_first = True)\n"
   ]
  },
  {
   "cell_type": "code",
   "execution_count": 34,
   "metadata": {},
   "outputs": [],
   "source": [
    "dummy_smoke = pd.get_dummies(df['smoking_status'], drop_first = True)\n"
   ]
  },
  {
   "cell_type": "code",
   "execution_count": 35,
   "metadata": {},
   "outputs": [],
   "source": [
    "dummy_peso = pd.get_dummies(df['Peso'], drop_first = True)\n"
   ]
  },
  {
   "cell_type": "code",
   "execution_count": 36,
   "metadata": {},
   "outputs": [],
   "source": [
    "dummy_diabetes = pd.get_dummies(df['Diabetes'], drop_first = True)\n"
   ]
  },
  {
   "cell_type": "markdown",
   "metadata": {},
   "source": [
    "Investigamos que después de los 55 años aumentan las posibilidades de padecer un ACV, por lo que vamos a crear una columna de edad de riesgo."
   ]
  },
  {
   "cell_type": "code",
   "execution_count": 37,
   "metadata": {},
   "outputs": [],
   "source": [
    "mayor_55 = df['age'].apply(lambda x: 1 if x > 55 else 0)\n",
    "df['edad_riesgo']= mayor_55\n"
   ]
  },
  {
   "cell_type": "markdown",
   "metadata": {},
   "source": [
    "Una vez obtenidas estas variables, las agregamos al final de nuestro dataframe e imprimimos los 5 primeros registros para ver que fueron correctamente transformados"
   ]
  },
  {
   "cell_type": "code",
   "execution_count": 38,
   "metadata": {},
   "outputs": [
    {
     "data": {
      "text/html": [
       "<div>\n",
       "<style scoped>\n",
       "    .dataframe tbody tr th:only-of-type {\n",
       "        vertical-align: middle;\n",
       "    }\n",
       "\n",
       "    .dataframe tbody tr th {\n",
       "        vertical-align: top;\n",
       "    }\n",
       "\n",
       "    .dataframe thead th {\n",
       "        text-align: right;\n",
       "    }\n",
       "</style>\n",
       "<table border=\"1\" class=\"dataframe\">\n",
       "  <thead>\n",
       "    <tr style=\"text-align: right;\">\n",
       "      <th></th>\n",
       "      <th>id</th>\n",
       "      <th>gender</th>\n",
       "      <th>age</th>\n",
       "      <th>hypertension</th>\n",
       "      <th>heart_disease</th>\n",
       "      <th>ever_married</th>\n",
       "      <th>work_type</th>\n",
       "      <th>Residence_type</th>\n",
       "      <th>avg_glucose_level</th>\n",
       "      <th>bmi</th>\n",
       "      <th>smoking_status</th>\n",
       "      <th>stroke</th>\n",
       "      <th>Diabetes</th>\n",
       "      <th>Peso</th>\n",
       "      <th>edad_riesgo</th>\n",
       "      <th>Hipertension</th>\n",
       "    </tr>\n",
       "  </thead>\n",
       "  <tbody>\n",
       "    <tr>\n",
       "      <th>0</th>\n",
       "      <td>9046</td>\n",
       "      <td>Male</td>\n",
       "      <td>67.0</td>\n",
       "      <td>NO</td>\n",
       "      <td>YES</td>\n",
       "      <td>Yes</td>\n",
       "      <td>Private</td>\n",
       "      <td>Urban</td>\n",
       "      <td>228.69</td>\n",
       "      <td>36.6</td>\n",
       "      <td>formerly smoked</td>\n",
       "      <td>YES</td>\n",
       "      <td>diabetes</td>\n",
       "      <td>obesidad</td>\n",
       "      <td>1</td>\n",
       "      <td>0</td>\n",
       "    </tr>\n",
       "    <tr>\n",
       "      <th>1</th>\n",
       "      <td>31112</td>\n",
       "      <td>Male</td>\n",
       "      <td>80.0</td>\n",
       "      <td>NO</td>\n",
       "      <td>YES</td>\n",
       "      <td>Yes</td>\n",
       "      <td>Private</td>\n",
       "      <td>Rural</td>\n",
       "      <td>105.92</td>\n",
       "      <td>32.5</td>\n",
       "      <td>never smoked</td>\n",
       "      <td>YES</td>\n",
       "      <td>prediabetes</td>\n",
       "      <td>obesidad</td>\n",
       "      <td>1</td>\n",
       "      <td>0</td>\n",
       "    </tr>\n",
       "    <tr>\n",
       "      <th>2</th>\n",
       "      <td>60182</td>\n",
       "      <td>Female</td>\n",
       "      <td>49.0</td>\n",
       "      <td>NO</td>\n",
       "      <td>NO</td>\n",
       "      <td>Yes</td>\n",
       "      <td>Private</td>\n",
       "      <td>Urban</td>\n",
       "      <td>171.23</td>\n",
       "      <td>34.4</td>\n",
       "      <td>smokes</td>\n",
       "      <td>YES</td>\n",
       "      <td>diabetes</td>\n",
       "      <td>obesidad</td>\n",
       "      <td>0</td>\n",
       "      <td>0</td>\n",
       "    </tr>\n",
       "    <tr>\n",
       "      <th>3</th>\n",
       "      <td>1665</td>\n",
       "      <td>Female</td>\n",
       "      <td>79.0</td>\n",
       "      <td>YES</td>\n",
       "      <td>NO</td>\n",
       "      <td>Yes</td>\n",
       "      <td>Self-employed</td>\n",
       "      <td>Rural</td>\n",
       "      <td>174.12</td>\n",
       "      <td>24.0</td>\n",
       "      <td>never smoked</td>\n",
       "      <td>YES</td>\n",
       "      <td>diabetes</td>\n",
       "      <td>normal</td>\n",
       "      <td>1</td>\n",
       "      <td>1</td>\n",
       "    </tr>\n",
       "    <tr>\n",
       "      <th>4</th>\n",
       "      <td>56669</td>\n",
       "      <td>Male</td>\n",
       "      <td>81.0</td>\n",
       "      <td>NO</td>\n",
       "      <td>NO</td>\n",
       "      <td>Yes</td>\n",
       "      <td>Private</td>\n",
       "      <td>Urban</td>\n",
       "      <td>186.21</td>\n",
       "      <td>29.0</td>\n",
       "      <td>formerly smoked</td>\n",
       "      <td>YES</td>\n",
       "      <td>diabetes</td>\n",
       "      <td>sobrepeso</td>\n",
       "      <td>1</td>\n",
       "      <td>0</td>\n",
       "    </tr>\n",
       "  </tbody>\n",
       "</table>\n",
       "</div>"
      ],
      "text/plain": [
       "      id  gender   age hypertension heart_disease ever_married      work_type  \\\n",
       "0   9046    Male  67.0           NO           YES          Yes        Private   \n",
       "1  31112    Male  80.0           NO           YES          Yes        Private   \n",
       "2  60182  Female  49.0           NO            NO          Yes        Private   \n",
       "3   1665  Female  79.0          YES            NO          Yes  Self-employed   \n",
       "4  56669    Male  81.0           NO            NO          Yes        Private   \n",
       "\n",
       "  Residence_type  avg_glucose_level   bmi   smoking_status stroke  \\\n",
       "0          Urban             228.69  36.6  formerly smoked    YES   \n",
       "1          Rural             105.92  32.5     never smoked    YES   \n",
       "2          Urban             171.23  34.4           smokes    YES   \n",
       "3          Rural             174.12  24.0     never smoked    YES   \n",
       "4          Urban             186.21  29.0  formerly smoked    YES   \n",
       "\n",
       "      Diabetes       Peso  edad_riesgo  Hipertension  \n",
       "0     diabetes   obesidad            1             0  \n",
       "1  prediabetes   obesidad            1             0  \n",
       "2     diabetes   obesidad            0             0  \n",
       "3     diabetes     normal            1             1  \n",
       "4     diabetes  sobrepeso            1             0  "
      ]
     },
     "execution_count": 38,
     "metadata": {},
     "output_type": "execute_result"
    }
   ],
   "source": [
    "df = pd.concat([df,dummy_tension],axis=1)\n",
    "df.rename(columns = {'YES':'Hipertension'}, inplace = True)\n",
    "df.head()"
   ]
  },
  {
   "cell_type": "code",
   "execution_count": 39,
   "metadata": {},
   "outputs": [],
   "source": [
    "df = pd.concat([df,dummy_heart],axis=1)\n",
    "df.rename(columns = {'YES':'Cardiacos'}, inplace = True)\n"
   ]
  },
  {
   "cell_type": "code",
   "execution_count": 40,
   "metadata": {},
   "outputs": [],
   "source": [
    "df = pd.concat([df,dummy_married],axis=1)\n",
    "df.rename(columns = {'Yes':'Casados'}, inplace = True)\n"
   ]
  },
  {
   "cell_type": "code",
   "execution_count": 41,
   "metadata": {},
   "outputs": [],
   "source": [
    "df = pd.concat([df,dummy_residence],axis=1)\n",
    "df.rename(columns = {'Urban':'Ciudad'}, inplace = True)\n"
   ]
  },
  {
   "cell_type": "code",
   "execution_count": 42,
   "metadata": {},
   "outputs": [],
   "source": [
    "df = pd.concat([df,dummy_gender],axis=1)    ## 1 = Hombre, 0 = Mujer\n",
    "df.rename(columns = {'Male':'Genero'}, inplace = True)\n"
   ]
  },
  {
   "cell_type": "code",
   "execution_count": 43,
   "metadata": {},
   "outputs": [],
   "source": [
    "df = pd.concat([df,dummy_work],axis=1)\n"
   ]
  },
  {
   "cell_type": "code",
   "execution_count": 44,
   "metadata": {},
   "outputs": [],
   "source": [
    "df = pd.concat([df,dummy_smoke],axis=1)\n"
   ]
  },
  {
   "cell_type": "code",
   "execution_count": 45,
   "metadata": {},
   "outputs": [],
   "source": [
    "df = pd.concat([df,dummy_stroke],axis=1)\n",
    "df.rename(columns = {'YES':'ACV'}, inplace = True)\n"
   ]
  },
  {
   "cell_type": "code",
   "execution_count": 46,
   "metadata": {},
   "outputs": [],
   "source": [
    "df = pd.concat([df,dummy_peso],axis=1)\n"
   ]
  },
  {
   "cell_type": "code",
   "execution_count": 47,
   "metadata": {},
   "outputs": [],
   "source": [
    "df = pd.concat([df,dummy_diabetes],axis=1)\n"
   ]
  },
  {
   "cell_type": "markdown",
   "metadata": {},
   "source": [
    "Una vez hecho esto, creamos un nuevo data Frame, dondelos valores alfabeticos de las variables importantes no estén"
   ]
  },
  {
   "cell_type": "code",
   "execution_count": 48,
   "metadata": {
    "scrolled": true
   },
   "outputs": [],
   "source": [
    "df_2 = df.drop(['gender','bmi','avg_glucose_level','Diabetes','Peso','work_type', 'hypertension', 'heart_disease', 'ever_married', 'Residence_type', 'stroke','smoking_status'], axis = 1)\n",
    "#df_2 = df.drop(['gender','bmi','avg_glucose_level','work_type', 'hypertension', 'heart_disease', 'ever_married', 'Residence_type', 'stroke','smoking_status'], axis = 1)\n"
   ]
  },
  {
   "cell_type": "markdown",
   "metadata": {},
   "source": [
    "Por último, dropeamos la columna ID, ya que no será útil."
   ]
  },
  {
   "cell_type": "code",
   "execution_count": 49,
   "metadata": {},
   "outputs": [],
   "source": [
    "df_2 = df_2.drop('id', axis=1)\n"
   ]
  },
  {
   "cell_type": "code",
   "execution_count": 50,
   "metadata": {},
   "outputs": [
    {
     "name": "stdout",
     "output_type": "stream",
     "text": [
      "<class 'pandas.core.frame.DataFrame'>\n",
      "RangeIndex: 4907 entries, 0 to 4906\n",
      "Data columns (total 20 columns):\n",
      " #   Column            Non-Null Count  Dtype  \n",
      "---  ------            --------------  -----  \n",
      " 0   age               4907 non-null   float64\n",
      " 1   edad_riesgo       4907 non-null   int64  \n",
      " 2   Hipertension      4907 non-null   uint8  \n",
      " 3   Cardiacos         4907 non-null   uint8  \n",
      " 4   Casados           4907 non-null   uint8  \n",
      " 5   Ciudad            4907 non-null   uint8  \n",
      " 6   Genero            4907 non-null   uint8  \n",
      " 7   Never_worked      4907 non-null   uint8  \n",
      " 8   Private           4907 non-null   uint8  \n",
      " 9   Self-employed     4907 non-null   uint8  \n",
      " 10  children          4907 non-null   uint8  \n",
      " 11  formerly smoked   4907 non-null   uint8  \n",
      " 12  never smoked      4907 non-null   uint8  \n",
      " 13  smokes            4907 non-null   uint8  \n",
      " 14  ACV               4907 non-null   uint8  \n",
      " 15  sobrepeso         4907 non-null   uint8  \n",
      " 16  obesidad          4907 non-null   uint8  \n",
      " 17  obesidad extrema  4907 non-null   uint8  \n",
      " 18  prediabetes       4907 non-null   uint8  \n",
      " 19  diabetes          4907 non-null   uint8  \n",
      "dtypes: float64(1), int64(1), uint8(18)\n",
      "memory usage: 163.1 KB\n"
     ]
    }
   ],
   "source": [
    "df_2.info()"
   ]
  },
  {
   "cell_type": "markdown",
   "metadata": {},
   "source": [
    "#### Nuevas variables para entrenar el modelo"
   ]
  },
  {
   "cell_type": "code",
   "execution_count": 51,
   "metadata": {},
   "outputs": [
    {
     "name": "stdout",
     "output_type": "stream",
     "text": [
      "<class 'pandas.core.frame.DataFrame'>\n",
      "RangeIndex: 4907 entries, 0 to 4906\n",
      "Data columns (total 27 columns):\n",
      " #   Column            Non-Null Count  Dtype  \n",
      "---  ------            --------------  -----  \n",
      " 0   age               4907 non-null   float64\n",
      " 1   edad_riesgo       4907 non-null   int64  \n",
      " 2   Hipertension      4907 non-null   uint8  \n",
      " 3   Cardiacos         4907 non-null   uint8  \n",
      " 4   Casados           4907 non-null   uint8  \n",
      " 5   Ciudad            4907 non-null   uint8  \n",
      " 6   Genero            4907 non-null   uint8  \n",
      " 7   Never_worked      4907 non-null   uint8  \n",
      " 8   Private           4907 non-null   uint8  \n",
      " 9   Self-employed     4907 non-null   uint8  \n",
      " 10  children          4907 non-null   uint8  \n",
      " 11  formerly smoked   4907 non-null   uint8  \n",
      " 12  never smoked      4907 non-null   uint8  \n",
      " 13  smokes            4907 non-null   uint8  \n",
      " 14  ACV               4907 non-null   uint8  \n",
      " 15  sobrepeso         4907 non-null   uint8  \n",
      " 16  obesidad          4907 non-null   uint8  \n",
      " 17  obesidad extrema  4907 non-null   uint8  \n",
      " 18  prediabetes       4907 non-null   uint8  \n",
      " 19  diabetes          4907 non-null   uint8  \n",
      " 20  age4              4907 non-null   float64\n",
      " 21  agelog            4907 non-null   float64\n",
      " 22  agebmi            4907 non-null   float64\n",
      " 23  ageavg            4907 non-null   float64\n",
      " 24  avgbmi            4907 non-null   float64\n",
      " 25  INDICE            4907 non-null   float64\n",
      " 26  glucosa           4907 non-null   float64\n",
      "dtypes: float64(8), int64(1), uint8(18)\n",
      "memory usage: 431.4 KB\n"
     ]
    },
    {
     "data": {
      "text/html": [
       "<div>\n",
       "<style scoped>\n",
       "    .dataframe tbody tr th:only-of-type {\n",
       "        vertical-align: middle;\n",
       "    }\n",
       "\n",
       "    .dataframe tbody tr th {\n",
       "        vertical-align: top;\n",
       "    }\n",
       "\n",
       "    .dataframe thead th {\n",
       "        text-align: right;\n",
       "    }\n",
       "</style>\n",
       "<table border=\"1\" class=\"dataframe\">\n",
       "  <thead>\n",
       "    <tr style=\"text-align: right;\">\n",
       "      <th></th>\n",
       "      <th>age</th>\n",
       "      <th>edad_riesgo</th>\n",
       "      <th>Hipertension</th>\n",
       "      <th>Cardiacos</th>\n",
       "      <th>Casados</th>\n",
       "      <th>Ciudad</th>\n",
       "      <th>Genero</th>\n",
       "      <th>Never_worked</th>\n",
       "      <th>Private</th>\n",
       "      <th>Self-employed</th>\n",
       "      <th>...</th>\n",
       "      <th>obesidad extrema</th>\n",
       "      <th>prediabetes</th>\n",
       "      <th>diabetes</th>\n",
       "      <th>age4</th>\n",
       "      <th>agelog</th>\n",
       "      <th>agebmi</th>\n",
       "      <th>ageavg</th>\n",
       "      <th>avgbmi</th>\n",
       "      <th>INDICE</th>\n",
       "      <th>glucosa</th>\n",
       "    </tr>\n",
       "  </thead>\n",
       "  <tbody>\n",
       "    <tr>\n",
       "      <th>0</th>\n",
       "      <td>67.0</td>\n",
       "      <td>1</td>\n",
       "      <td>0</td>\n",
       "      <td>1</td>\n",
       "      <td>1</td>\n",
       "      <td>1</td>\n",
       "      <td>1</td>\n",
       "      <td>0</td>\n",
       "      <td>1</td>\n",
       "      <td>0</td>\n",
       "      <td>...</td>\n",
       "      <td>0</td>\n",
       "      <td>0</td>\n",
       "      <td>1</td>\n",
       "      <td>20151121.0</td>\n",
       "      <td>4.204693</td>\n",
       "      <td>2452.2</td>\n",
       "      <td>15322.23</td>\n",
       "      <td>8370.054</td>\n",
       "      <td>36.6</td>\n",
       "      <td>228.69</td>\n",
       "    </tr>\n",
       "    <tr>\n",
       "      <th>1</th>\n",
       "      <td>80.0</td>\n",
       "      <td>1</td>\n",
       "      <td>0</td>\n",
       "      <td>1</td>\n",
       "      <td>1</td>\n",
       "      <td>0</td>\n",
       "      <td>1</td>\n",
       "      <td>0</td>\n",
       "      <td>1</td>\n",
       "      <td>0</td>\n",
       "      <td>...</td>\n",
       "      <td>0</td>\n",
       "      <td>1</td>\n",
       "      <td>0</td>\n",
       "      <td>40960000.0</td>\n",
       "      <td>4.382027</td>\n",
       "      <td>2600.0</td>\n",
       "      <td>8473.60</td>\n",
       "      <td>3442.400</td>\n",
       "      <td>32.5</td>\n",
       "      <td>105.92</td>\n",
       "    </tr>\n",
       "    <tr>\n",
       "      <th>2</th>\n",
       "      <td>49.0</td>\n",
       "      <td>0</td>\n",
       "      <td>0</td>\n",
       "      <td>0</td>\n",
       "      <td>1</td>\n",
       "      <td>1</td>\n",
       "      <td>0</td>\n",
       "      <td>0</td>\n",
       "      <td>1</td>\n",
       "      <td>0</td>\n",
       "      <td>...</td>\n",
       "      <td>0</td>\n",
       "      <td>0</td>\n",
       "      <td>1</td>\n",
       "      <td>5764801.0</td>\n",
       "      <td>3.891820</td>\n",
       "      <td>1685.6</td>\n",
       "      <td>8390.27</td>\n",
       "      <td>5890.312</td>\n",
       "      <td>34.4</td>\n",
       "      <td>171.23</td>\n",
       "    </tr>\n",
       "    <tr>\n",
       "      <th>3</th>\n",
       "      <td>79.0</td>\n",
       "      <td>1</td>\n",
       "      <td>1</td>\n",
       "      <td>0</td>\n",
       "      <td>1</td>\n",
       "      <td>0</td>\n",
       "      <td>0</td>\n",
       "      <td>0</td>\n",
       "      <td>0</td>\n",
       "      <td>1</td>\n",
       "      <td>...</td>\n",
       "      <td>0</td>\n",
       "      <td>0</td>\n",
       "      <td>1</td>\n",
       "      <td>38950081.0</td>\n",
       "      <td>4.369448</td>\n",
       "      <td>1896.0</td>\n",
       "      <td>13755.48</td>\n",
       "      <td>4178.880</td>\n",
       "      <td>24.0</td>\n",
       "      <td>174.12</td>\n",
       "    </tr>\n",
       "    <tr>\n",
       "      <th>4</th>\n",
       "      <td>81.0</td>\n",
       "      <td>1</td>\n",
       "      <td>0</td>\n",
       "      <td>0</td>\n",
       "      <td>1</td>\n",
       "      <td>1</td>\n",
       "      <td>1</td>\n",
       "      <td>0</td>\n",
       "      <td>1</td>\n",
       "      <td>0</td>\n",
       "      <td>...</td>\n",
       "      <td>0</td>\n",
       "      <td>0</td>\n",
       "      <td>1</td>\n",
       "      <td>43046721.0</td>\n",
       "      <td>4.394449</td>\n",
       "      <td>2349.0</td>\n",
       "      <td>15083.01</td>\n",
       "      <td>5400.090</td>\n",
       "      <td>29.0</td>\n",
       "      <td>186.21</td>\n",
       "    </tr>\n",
       "  </tbody>\n",
       "</table>\n",
       "<p>5 rows × 27 columns</p>\n",
       "</div>"
      ],
      "text/plain": [
       "    age  edad_riesgo  Hipertension  Cardiacos  Casados  Ciudad  Genero  \\\n",
       "0  67.0            1             0          1        1       1       1   \n",
       "1  80.0            1             0          1        1       0       1   \n",
       "2  49.0            0             0          0        1       1       0   \n",
       "3  79.0            1             1          0        1       0       0   \n",
       "4  81.0            1             0          0        1       1       1   \n",
       "\n",
       "   Never_worked  Private  Self-employed  ...  obesidad extrema  prediabetes  \\\n",
       "0             0        1              0  ...                 0            0   \n",
       "1             0        1              0  ...                 0            1   \n",
       "2             0        1              0  ...                 0            0   \n",
       "3             0        0              1  ...                 0            0   \n",
       "4             0        1              0  ...                 0            0   \n",
       "\n",
       "   diabetes        age4    agelog  agebmi    ageavg    avgbmi  INDICE  glucosa  \n",
       "0         1  20151121.0  4.204693  2452.2  15322.23  8370.054    36.6   228.69  \n",
       "1         0  40960000.0  4.382027  2600.0   8473.60  3442.400    32.5   105.92  \n",
       "2         1   5764801.0  3.891820  1685.6   8390.27  5890.312    34.4   171.23  \n",
       "3         1  38950081.0  4.369448  1896.0  13755.48  4178.880    24.0   174.12  \n",
       "4         1  43046721.0  4.394449  2349.0  15083.01  5400.090    29.0   186.21  \n",
       "\n",
       "[5 rows x 27 columns]"
      ]
     },
     "execution_count": 51,
     "metadata": {},
     "output_type": "execute_result"
    }
   ],
   "source": [
    "df_2['age4']= df.age**4\n",
    "df_2[\"agelog\"] = np.log(df.age)\n",
    "df_2[\"agebmi\"] = df.age * df.bmi\n",
    "df_2[\"ageavg\"] = df.age * df.avg_glucose_level\n",
    "df_2[\"avgbmi\"] = df.avg_glucose_level * df.bmi\n",
    "df_2[\"INDICE\"]= df.bmi\n",
    "df_2[\"glucosa\"] = df.avg_glucose_level\n",
    "df_2.edad_riesgo.astype(int)\n",
    "df_2.info()\n",
    "df_2.head()"
   ]
  },
  {
   "cell_type": "markdown",
   "metadata": {},
   "source": [
    "## Valores de interés\n",
    "Buscamos información relevante para poder evalutar, o generar categorías, que nos permitan predecir si el paciente está en riesgo de tener un ACV.\n",
    "\n",
    "#### Glucosa\n",
    "    Tomamos como parámetro el estudio más común, que es el de glucosa en plasma en ayunas.\n",
    "    Un nivel de glucosa sanguínea:\n",
    "        Inferior a 100 mg/dl se considera normal.\n",
    "        Entre 100 y 125 mg/dL se considera prediabetes.\n",
    "        Mayor a 126 mg/dl se considera diabetes.\n",
    "https://dtc.ucsf.edu/es/tipos-de-diabetes/diabetes-tipo-1/comprension-de-la-diabetes-tipo-1/datos-basicos/diagnostico-de-la-diabetes/\n",
    "        \n",
    "#### Edad de riesgo\n",
    "    Tener 55 años o más: a partir de los 55 años, se duplica la tasa de muerte por ACV cada 10 años.\n",
    "\n",
    "#### BMI\n",
    "    Para los adultos, un BMI de:\n",
    "        18,5 a 24,9 se considera peso normal.\n",
    "        25,0 a 29,9 se considera sobrepeso.\n",
    "        30,0 a 39,9 se considera obesidad.\n",
    "        40,0 o más se considera obesidad extrema o mórbida."
   ]
  },
  {
   "cell_type": "markdown",
   "metadata": {},
   "source": [
    "Vamos a ver la correlacion entre las variables"
   ]
  },
  {
   "cell_type": "code",
   "execution_count": 52,
   "metadata": {},
   "outputs": [
    {
     "data": {
      "text/plain": [
       "<matplotlib.axes._subplots.AxesSubplot at 0x1d686ce7b48>"
      ]
     },
     "execution_count": 52,
     "metadata": {},
     "output_type": "execute_result"
    },
    {
     "data": {
      "image/png": "[encoded data removed]",
      "text/plain": [
       "<Figure size 1800x1080 with 2 Axes>"
      ]
     },
     "metadata": {
      "needs_background": "light"
     },
     "output_type": "display_data"
    }
   ],
   "source": [
    "plt.figure(figsize = (25,15))\n",
    "sns.heatmap(df_2.corr(),vmin=-1,vmax=1, cmap='RdBu', annot=True)\n"
   ]
  },
  {
   "cell_type": "code",
   "execution_count": 53,
   "metadata": {},
   "outputs": [],
   "source": [
    "from sklearn.linear_model import LogisticRegression\n"
   ]
  },
  {
   "cell_type": "code",
   "execution_count": 54,
   "metadata": {},
   "outputs": [
    {
     "data": {
      "text/html": [
       "<div>\n",
       "<style scoped>\n",
       "    .dataframe tbody tr th:only-of-type {\n",
       "        vertical-align: middle;\n",
       "    }\n",
       "\n",
       "    .dataframe tbody tr th {\n",
       "        vertical-align: top;\n",
       "    }\n",
       "\n",
       "    .dataframe thead th {\n",
       "        text-align: right;\n",
       "    }\n",
       "</style>\n",
       "<table border=\"1\" class=\"dataframe\">\n",
       "  <thead>\n",
       "    <tr style=\"text-align: right;\">\n",
       "      <th></th>\n",
       "      <th>age</th>\n",
       "      <th>edad_riesgo</th>\n",
       "      <th>Hipertension</th>\n",
       "      <th>Cardiacos</th>\n",
       "      <th>Casados</th>\n",
       "      <th>Ciudad</th>\n",
       "      <th>Genero</th>\n",
       "      <th>Never_worked</th>\n",
       "      <th>Private</th>\n",
       "      <th>Self-employed</th>\n",
       "      <th>...</th>\n",
       "      <th>obesidad extrema</th>\n",
       "      <th>prediabetes</th>\n",
       "      <th>diabetes</th>\n",
       "      <th>age4</th>\n",
       "      <th>agelog</th>\n",
       "      <th>agebmi</th>\n",
       "      <th>ageavg</th>\n",
       "      <th>avgbmi</th>\n",
       "      <th>INDICE</th>\n",
       "      <th>glucosa</th>\n",
       "    </tr>\n",
       "  </thead>\n",
       "  <tbody>\n",
       "    <tr>\n",
       "      <th>0</th>\n",
       "      <td>67.0</td>\n",
       "      <td>1</td>\n",
       "      <td>0</td>\n",
       "      <td>1</td>\n",
       "      <td>1</td>\n",
       "      <td>1</td>\n",
       "      <td>1</td>\n",
       "      <td>0</td>\n",
       "      <td>1</td>\n",
       "      <td>0</td>\n",
       "      <td>...</td>\n",
       "      <td>0</td>\n",
       "      <td>0</td>\n",
       "      <td>1</td>\n",
       "      <td>20151121.0</td>\n",
       "      <td>4.204693</td>\n",
       "      <td>2452.2</td>\n",
       "      <td>15322.23</td>\n",
       "      <td>8370.054</td>\n",
       "      <td>36.6</td>\n",
       "      <td>228.69</td>\n",
       "    </tr>\n",
       "    <tr>\n",
       "      <th>1</th>\n",
       "      <td>80.0</td>\n",
       "      <td>1</td>\n",
       "      <td>0</td>\n",
       "      <td>1</td>\n",
       "      <td>1</td>\n",
       "      <td>0</td>\n",
       "      <td>1</td>\n",
       "      <td>0</td>\n",
       "      <td>1</td>\n",
       "      <td>0</td>\n",
       "      <td>...</td>\n",
       "      <td>0</td>\n",
       "      <td>1</td>\n",
       "      <td>0</td>\n",
       "      <td>40960000.0</td>\n",
       "      <td>4.382027</td>\n",
       "      <td>2600.0</td>\n",
       "      <td>8473.60</td>\n",
       "      <td>3442.400</td>\n",
       "      <td>32.5</td>\n",
       "      <td>105.92</td>\n",
       "    </tr>\n",
       "    <tr>\n",
       "      <th>2</th>\n",
       "      <td>49.0</td>\n",
       "      <td>0</td>\n",
       "      <td>0</td>\n",
       "      <td>0</td>\n",
       "      <td>1</td>\n",
       "      <td>1</td>\n",
       "      <td>0</td>\n",
       "      <td>0</td>\n",
       "      <td>1</td>\n",
       "      <td>0</td>\n",
       "      <td>...</td>\n",
       "      <td>0</td>\n",
       "      <td>0</td>\n",
       "      <td>1</td>\n",
       "      <td>5764801.0</td>\n",
       "      <td>3.891820</td>\n",
       "      <td>1685.6</td>\n",
       "      <td>8390.27</td>\n",
       "      <td>5890.312</td>\n",
       "      <td>34.4</td>\n",
       "      <td>171.23</td>\n",
       "    </tr>\n",
       "    <tr>\n",
       "      <th>3</th>\n",
       "      <td>79.0</td>\n",
       "      <td>1</td>\n",
       "      <td>1</td>\n",
       "      <td>0</td>\n",
       "      <td>1</td>\n",
       "      <td>0</td>\n",
       "      <td>0</td>\n",
       "      <td>0</td>\n",
       "      <td>0</td>\n",
       "      <td>1</td>\n",
       "      <td>...</td>\n",
       "      <td>0</td>\n",
       "      <td>0</td>\n",
       "      <td>1</td>\n",
       "      <td>38950081.0</td>\n",
       "      <td>4.369448</td>\n",
       "      <td>1896.0</td>\n",
       "      <td>13755.48</td>\n",
       "      <td>4178.880</td>\n",
       "      <td>24.0</td>\n",
       "      <td>174.12</td>\n",
       "    </tr>\n",
       "    <tr>\n",
       "      <th>4</th>\n",
       "      <td>81.0</td>\n",
       "      <td>1</td>\n",
       "      <td>0</td>\n",
       "      <td>0</td>\n",
       "      <td>1</td>\n",
       "      <td>1</td>\n",
       "      <td>1</td>\n",
       "      <td>0</td>\n",
       "      <td>1</td>\n",
       "      <td>0</td>\n",
       "      <td>...</td>\n",
       "      <td>0</td>\n",
       "      <td>0</td>\n",
       "      <td>1</td>\n",
       "      <td>43046721.0</td>\n",
       "      <td>4.394449</td>\n",
       "      <td>2349.0</td>\n",
       "      <td>15083.01</td>\n",
       "      <td>5400.090</td>\n",
       "      <td>29.0</td>\n",
       "      <td>186.21</td>\n",
       "    </tr>\n",
       "  </tbody>\n",
       "</table>\n",
       "<p>5 rows × 26 columns</p>\n",
       "</div>"
      ],
      "text/plain": [
       "    age  edad_riesgo  Hipertension  Cardiacos  Casados  Ciudad  Genero  \\\n",
       "0  67.0            1             0          1        1       1       1   \n",
       "1  80.0            1             0          1        1       0       1   \n",
       "2  49.0            0             0          0        1       1       0   \n",
       "3  79.0            1             1          0        1       0       0   \n",
       "4  81.0            1             0          0        1       1       1   \n",
       "\n",
       "   Never_worked  Private  Self-employed  ...  obesidad extrema  prediabetes  \\\n",
       "0             0        1              0  ...                 0            0   \n",
       "1             0        1              0  ...                 0            1   \n",
       "2             0        1              0  ...                 0            0   \n",
       "3             0        0              1  ...                 0            0   \n",
       "4             0        1              0  ...                 0            0   \n",
       "\n",
       "   diabetes        age4    agelog  agebmi    ageavg    avgbmi  INDICE  glucosa  \n",
       "0         1  20151121.0  4.204693  2452.2  15322.23  8370.054    36.6   228.69  \n",
       "1         0  40960000.0  4.382027  2600.0   8473.60  3442.400    32.5   105.92  \n",
       "2         1   5764801.0  3.891820  1685.6   8390.27  5890.312    34.4   171.23  \n",
       "3         1  38950081.0  4.369448  1896.0  13755.48  4178.880    24.0   174.12  \n",
       "4         1  43046721.0  4.394449  2349.0  15083.01  5400.090    29.0   186.21  \n",
       "\n",
       "[5 rows x 26 columns]"
      ]
     },
     "execution_count": 54,
     "metadata": {},
     "output_type": "execute_result"
    }
   ],
   "source": [
    "# Construir la matriz de features\n",
    "X = df_2.drop(['ACV'], axis=1)\n",
    "X.head()"
   ]
  },
  {
   "cell_type": "code",
   "execution_count": 55,
   "metadata": {},
   "outputs": [
    {
     "data": {
      "text/plain": [
       "0    1\n",
       "1    1\n",
       "2    1\n",
       "3    1\n",
       "4    1\n",
       "Name: ACV, dtype: uint8"
      ]
     },
     "execution_count": 55,
     "metadata": {},
     "output_type": "execute_result"
    }
   ],
   "source": [
    "# Construir la variable target: stroke\n",
    "y = df_2['ACV']\n",
    "y.head()"
   ]
  },
  {
   "cell_type": "code",
   "execution_count": 56,
   "metadata": {},
   "outputs": [
    {
     "data": {
      "text/plain": [
       "0    4698\n",
       "1     209\n",
       "Name: ACV, dtype: int64"
      ]
     },
     "execution_count": 56,
     "metadata": {},
     "output_type": "execute_result"
    }
   ],
   "source": [
    "df_2['ACV'].value_counts()"
   ]
  },
  {
   "cell_type": "code",
   "execution_count": 57,
   "metadata": {},
   "outputs": [],
   "source": [
    "X_train, X_test, y_train, y_test = train_test_split(X, y, stratify = y, random_state = 42, test_size = 0.20)"
   ]
  },
  {
   "cell_type": "code",
   "execution_count": 58,
   "metadata": {},
   "outputs": [],
   "source": [
    "from sklearn.preprocessing import StandardScaler\n",
    "scaler = StandardScaler()\n",
    "X_train_std = scaler.fit_transform(X_train)\n",
    "X_test_std = scaler.transform(X_test)"
   ]
  },
  {
   "cell_type": "code",
   "execution_count": 59,
   "metadata": {},
   "outputs": [
    {
     "data": {
      "text/plain": [
       "0    0.957452\n",
       "1    0.042548\n",
       "Name: ACV, dtype: float64"
      ]
     },
     "execution_count": 59,
     "metadata": {},
     "output_type": "execute_result"
    }
   ],
   "source": [
    "y_train.value_counts(normalize=True)"
   ]
  },
  {
   "cell_type": "code",
   "execution_count": 60,
   "metadata": {},
   "outputs": [
    {
     "data": {
      "text/plain": [
       "0    0.95723\n",
       "1    0.04277\n",
       "Name: ACV, dtype: float64"
      ]
     },
     "execution_count": 60,
     "metadata": {},
     "output_type": "execute_result"
    }
   ],
   "source": [
    "y_test.value_counts(normalize=True)"
   ]
  },
  {
   "cell_type": "code",
   "execution_count": 61,
   "metadata": {},
   "outputs": [],
   "source": [
    "lr = LogisticRegression()"
   ]
  },
  {
   "cell_type": "code",
   "execution_count": 62,
   "metadata": {},
   "outputs": [
    {
     "data": {
      "text/plain": [
       "LogisticRegression(C=1.0, class_weight=None, dual=False, fit_intercept=True,\n",
       "                   intercept_scaling=1, l1_ratio=None, max_iter=100,\n",
       "                   multi_class='auto', n_jobs=None, penalty='l2',\n",
       "                   random_state=None, solver='lbfgs', tol=0.0001, verbose=0,\n",
       "                   warm_start=False)"
      ]
     },
     "execution_count": 62,
     "metadata": {},
     "output_type": "execute_result"
    }
   ],
   "source": [
    "lr.fit(X_train_std, y_train)"
   ]
  },
  {
   "cell_type": "code",
   "execution_count": 63,
   "metadata": {},
   "outputs": [
    {
     "data": {
      "text/plain": [
       "0.957452229299363"
      ]
     },
     "execution_count": 63,
     "metadata": {},
     "output_type": "execute_result"
    }
   ],
   "source": [
    "accuracy_score(y_train, lr.predict(X_train_std))"
   ]
  },
  {
   "cell_type": "code",
   "execution_count": 64,
   "metadata": {},
   "outputs": [
    {
     "data": {
      "text/plain": [
       "Text(0.5, 15.0, 'Predichos')"
      ]
     },
     "execution_count": 64,
     "metadata": {},
     "output_type": "execute_result"
    },
    {
     "data": {
      "image/png": "[encoded data removed]",
      "text/plain": [
       "<Figure size 432x288 with 2 Axes>"
      ]
     },
     "metadata": {
      "needs_background": "light"
     },
     "output_type": "display_data"
    }
   ],
   "source": [
    "confusion_matrix(y_train, lr.predict(X_train_std))\n",
    "sns.heatmap(confusion_matrix(y_train, lr.predict(X_train_std)), annot=True)\n",
    "plt.ylabel('Verdaderos')\n",
    "plt.xlabel('Predichos')"
   ]
  },
  {
   "cell_type": "code",
   "execution_count": 65,
   "metadata": {},
   "outputs": [
    {
     "name": "stdout",
     "output_type": "stream",
     "text": [
      "              precision    recall  f1-score   support\n",
      "\n",
      "           0       0.96      1.00      0.98      3758\n",
      "           1       0.50      0.01      0.01       167\n",
      "\n",
      "    accuracy                           0.96      3925\n",
      "   macro avg       0.73      0.50      0.50      3925\n",
      "weighted avg       0.94      0.96      0.94      3925\n",
      "\n"
     ]
    }
   ],
   "source": [
    "print(classification_report(y_train, lr.predict(X_train_std)))"
   ]
  },
  {
   "cell_type": "code",
   "execution_count": 66,
   "metadata": {},
   "outputs": [
    {
     "data": {
      "text/plain": [
       "array([0.0350475 , 0.04714665, 0.08937814, ..., 0.03385093, 0.01141875,\n",
       "       0.02576063])"
      ]
     },
     "execution_count": 66,
     "metadata": {},
     "output_type": "execute_result"
    }
   ],
   "source": [
    "lr.predict_proba(X_train_std[y_train==0])[:,1]"
   ]
  },
  {
   "cell_type": "code",
   "execution_count": 67,
   "metadata": {},
   "outputs": [
    {
     "data": {
      "text/plain": [
       "<matplotlib.legend.Legend at 0x1d6882f7988>"
      ]
     },
     "execution_count": 67,
     "metadata": {},
     "output_type": "execute_result"
    },
    {
     "data": {
      "image/png": "[encoded data removed]",
      "text/plain": [
       "<Figure size 432x288 with 1 Axes>"
      ]
     },
     "metadata": {
      "needs_background": "light"
     },
     "output_type": "display_data"
    }
   ],
   "source": [
    "# Histograma de probabilidades\n",
    "sns.distplot(lr.predict_proba(X_train_std[y_train==0])[:,1])\n",
    "sns.distplot(lr.predict_proba(X_train_std[y_train==1])[:,1])\n",
    "ylim = plt.ylim()\n",
    "plt.vlines(0.5, ylim[0], ylim[1])\n",
    "plt.ylim(ylim)\n",
    "plt.legend(['Umbral', 'ACV = 0', 'ACV = 1'])"
   ]
  },
  {
   "cell_type": "code",
   "execution_count": 68,
   "metadata": {},
   "outputs": [],
   "source": [
    "umbral = 0.05\n",
    "probs = lr.predict_proba(X_train_std)[:,1]\n",
    "y_pred_train = probs > umbral"
   ]
  },
  {
   "cell_type": "markdown",
   "metadata": {},
   "source": [
    "Vamos a buscar el mejor umbral"
   ]
  },
  {
   "cell_type": "code",
   "execution_count": 69,
   "metadata": {},
   "outputs": [],
   "source": [
    "umbrales = [0.01, 0.02, 0.03, 0.04, 0.05, 0.06, 0.07, 0.08, 0.09, 0.1]\n",
    "Accuracy_list = []\n",
    "Recall_list = []\n",
    "Precision_list = []\n",
    "TP_list = []\n",
    "TN_list = []\n",
    "FP_list = []\n",
    "FN_list = []\n",
    "for u in umbrales:\n",
    "    umbral = u\n",
    "    probs = lr.predict_proba(X_train_std)[:,1]\n",
    "    y_pred_train = probs > umbral\n",
    "    Accuracy = accuracy_score(y_train, y_pred_train)\n",
    "    Recall = recall_score(y_train, y_pred_train)\n",
    "    Precision = precision_score(y_train, y_pred_train)\n",
    "    confusion = confusion_matrix(y_train, y_pred_train)\n",
    "    Accuracy_list.append(Accuracy.round(2))\n",
    "    Recall_list.append(Recall.round(2))\n",
    "    Precision_list.append(Precision.round(2))\n",
    "    \n",
    "    \n",
    "    TP_list.append(confusion[1, 1].astype(int))\n",
    "    TN_list.append(confusion[0, 0].astype(int))\n",
    "    FP_list.append(confusion[0, 1].astype(int))\n",
    "    FN_list.append(confusion[1, 0].astype(int))\n"
   ]
  },
  {
   "cell_type": "code",
   "execution_count": 70,
   "metadata": {},
   "outputs": [
    {
     "name": "stdout",
     "output_type": "stream",
     "text": [
      "[0.5, 0.62, 0.69, 0.73, 0.76, 0.79, 0.81, 0.84, 0.85, 0.86]\n"
     ]
    }
   ],
   "source": [
    "print(Accuracy_list)"
   ]
  },
  {
   "cell_type": "code",
   "execution_count": 71,
   "metadata": {},
   "outputs": [
    {
     "data": {
      "text/html": [
       "<div>\n",
       "<style scoped>\n",
       "    .dataframe tbody tr th:only-of-type {\n",
       "        vertical-align: middle;\n",
       "    }\n",
       "\n",
       "    .dataframe tbody tr th {\n",
       "        vertical-align: top;\n",
       "    }\n",
       "\n",
       "    .dataframe thead th {\n",
       "        text-align: right;\n",
       "    }\n",
       "</style>\n",
       "<table border=\"1\" class=\"dataframe\">\n",
       "  <thead>\n",
       "    <tr style=\"text-align: right;\">\n",
       "      <th></th>\n",
       "      <th>0.01</th>\n",
       "      <th>0.02</th>\n",
       "      <th>0.03</th>\n",
       "      <th>0.04</th>\n",
       "      <th>0.05</th>\n",
       "      <th>0.06</th>\n",
       "      <th>0.07</th>\n",
       "      <th>0.08</th>\n",
       "      <th>0.09</th>\n",
       "      <th>0.10</th>\n",
       "    </tr>\n",
       "  </thead>\n",
       "  <tbody>\n",
       "    <tr>\n",
       "      <th>Accuracy</th>\n",
       "      <td>0.50</td>\n",
       "      <td>0.62</td>\n",
       "      <td>0.69</td>\n",
       "      <td>0.73</td>\n",
       "      <td>0.76</td>\n",
       "      <td>0.79</td>\n",
       "      <td>0.81</td>\n",
       "      <td>0.84</td>\n",
       "      <td>0.85</td>\n",
       "      <td>0.86</td>\n",
       "    </tr>\n",
       "    <tr>\n",
       "      <th>Recall</th>\n",
       "      <td>0.98</td>\n",
       "      <td>0.93</td>\n",
       "      <td>0.91</td>\n",
       "      <td>0.86</td>\n",
       "      <td>0.83</td>\n",
       "      <td>0.78</td>\n",
       "      <td>0.74</td>\n",
       "      <td>0.69</td>\n",
       "      <td>0.65</td>\n",
       "      <td>0.60</td>\n",
       "    </tr>\n",
       "    <tr>\n",
       "      <th>Precision</th>\n",
       "      <td>0.08</td>\n",
       "      <td>0.10</td>\n",
       "      <td>0.11</td>\n",
       "      <td>0.12</td>\n",
       "      <td>0.13</td>\n",
       "      <td>0.14</td>\n",
       "      <td>0.15</td>\n",
       "      <td>0.16</td>\n",
       "      <td>0.17</td>\n",
       "      <td>0.18</td>\n",
       "    </tr>\n",
       "    <tr>\n",
       "      <th>TP</th>\n",
       "      <td>163.00</td>\n",
       "      <td>156.00</td>\n",
       "      <td>152.00</td>\n",
       "      <td>143.00</td>\n",
       "      <td>138.00</td>\n",
       "      <td>131.00</td>\n",
       "      <td>124.00</td>\n",
       "      <td>116.00</td>\n",
       "      <td>108.00</td>\n",
       "      <td>100.00</td>\n",
       "    </tr>\n",
       "    <tr>\n",
       "      <th>TN</th>\n",
       "      <td>1810.00</td>\n",
       "      <td>2282.00</td>\n",
       "      <td>2543.00</td>\n",
       "      <td>2714.00</td>\n",
       "      <td>2853.00</td>\n",
       "      <td>2974.00</td>\n",
       "      <td>3068.00</td>\n",
       "      <td>3165.00</td>\n",
       "      <td>3233.00</td>\n",
       "      <td>3290.00</td>\n",
       "    </tr>\n",
       "    <tr>\n",
       "      <th>FP</th>\n",
       "      <td>1948.00</td>\n",
       "      <td>1476.00</td>\n",
       "      <td>1215.00</td>\n",
       "      <td>1044.00</td>\n",
       "      <td>905.00</td>\n",
       "      <td>784.00</td>\n",
       "      <td>690.00</td>\n",
       "      <td>593.00</td>\n",
       "      <td>525.00</td>\n",
       "      <td>468.00</td>\n",
       "    </tr>\n",
       "    <tr>\n",
       "      <th>FN</th>\n",
       "      <td>4.00</td>\n",
       "      <td>11.00</td>\n",
       "      <td>15.00</td>\n",
       "      <td>24.00</td>\n",
       "      <td>29.00</td>\n",
       "      <td>36.00</td>\n",
       "      <td>43.00</td>\n",
       "      <td>51.00</td>\n",
       "      <td>59.00</td>\n",
       "      <td>67.00</td>\n",
       "    </tr>\n",
       "  </tbody>\n",
       "</table>\n",
       "</div>"
      ],
      "text/plain": [
       "              0.01     0.02     0.03     0.04     0.05     0.06     0.07  \\\n",
       "Accuracy      0.50     0.62     0.69     0.73     0.76     0.79     0.81   \n",
       "Recall        0.98     0.93     0.91     0.86     0.83     0.78     0.74   \n",
       "Precision     0.08     0.10     0.11     0.12     0.13     0.14     0.15   \n",
       "TP          163.00   156.00   152.00   143.00   138.00   131.00   124.00   \n",
       "TN         1810.00  2282.00  2543.00  2714.00  2853.00  2974.00  3068.00   \n",
       "FP         1948.00  1476.00  1215.00  1044.00   905.00   784.00   690.00   \n",
       "FN            4.00    11.00    15.00    24.00    29.00    36.00    43.00   \n",
       "\n",
       "              0.08     0.09     0.10  \n",
       "Accuracy      0.84     0.85     0.86  \n",
       "Recall        0.69     0.65     0.60  \n",
       "Precision     0.16     0.17     0.18  \n",
       "TP          116.00   108.00   100.00  \n",
       "TN         3165.00  3233.00  3290.00  \n",
       "FP          593.00   525.00   468.00  \n",
       "FN           51.00    59.00    67.00  "
      ]
     },
     "execution_count": 71,
     "metadata": {},
     "output_type": "execute_result"
    }
   ],
   "source": [
    "tabla_umbral = pd.DataFrame([Accuracy_list, Recall_list, Precision_list, TP_list, TN_list, FP_list, FN_list], columns = umbrales, index = ['Accuracy', 'Recall', 'Precision','TP', 'TN', 'FP', 'FN'] )\n",
    "tabla_umbral\n"
   ]
  },
  {
   "cell_type": "code",
   "execution_count": 72,
   "metadata": {},
   "outputs": [
    {
     "data": {
      "text/plain": [
       "0.8636942675159236"
      ]
     },
     "execution_count": 72,
     "metadata": {},
     "output_type": "execute_result"
    }
   ],
   "source": [
    "accuracy_score(y_train, y_pred_train)"
   ]
  },
  {
   "cell_type": "code",
   "execution_count": 73,
   "metadata": {},
   "outputs": [],
   "source": [
    "confusion = confusion_matrix(y_train, y_pred_train)"
   ]
  },
  {
   "cell_type": "code",
   "execution_count": 74,
   "metadata": {},
   "outputs": [
    {
     "data": {
      "text/plain": [
       "Text(33.0, 0.5, 'Reales')"
      ]
     },
     "execution_count": 74,
     "metadata": {},
     "output_type": "execute_result"
    },
    {
     "data": {
      "image/png": "[encoded data removed]",
      "text/plain": [
       "<Figure size 432x288 with 2 Axes>"
      ]
     },
     "metadata": {
      "needs_background": "light"
     },
     "output_type": "display_data"
    }
   ],
   "source": [
    "sns.heatmap(confusion_matrix(y_train, y_pred_train), annot=True, fmt='4d')\n",
    "plt.xlabel('Predichos')\n",
    "plt.ylabel('Reales')"
   ]
  },
  {
   "cell_type": "code",
   "execution_count": 75,
   "metadata": {},
   "outputs": [
    {
     "name": "stdout",
     "output_type": "stream",
     "text": [
      "              precision    recall  f1-score   support\n",
      "\n",
      "           0       0.98      0.88      0.92      3758\n",
      "           1       0.18      0.60      0.27       167\n",
      "\n",
      "    accuracy                           0.86      3925\n",
      "   macro avg       0.58      0.74      0.60      3925\n",
      "weighted avg       0.95      0.86      0.90      3925\n",
      "\n"
     ]
    }
   ],
   "source": [
    "print(classification_report(y_train, y_pred_train))"
   ]
  },
  {
   "cell_type": "code",
   "execution_count": 76,
   "metadata": {},
   "outputs": [
    {
     "name": "stdout",
     "output_type": "stream",
     "text": [
      "0.8754656732304418\n"
     ]
    }
   ],
   "source": [
    "# Specificity\n",
    "TP = confusion[1, 1]\n",
    "TN = confusion[0, 0]\n",
    "FP = confusion[0, 1]\n",
    "FN = confusion[1, 0]\n",
    "\n",
    "specificity = TN / (TN + FP)\n",
    "\n",
    "print(specificity)"
   ]
  },
  {
   "cell_type": "code",
   "execution_count": 77,
   "metadata": {},
   "outputs": [
    {
     "data": {
      "image/png": "[encoded data removed]",
      "text/plain": [
       "<Figure size 432x288 with 1 Axes>"
      ]
     },
     "metadata": {
      "needs_background": "light"
     },
     "output_type": "display_data"
    }
   ],
   "source": [
    "# ROC Curva y AUC\n",
    "y_pred_proba = lr.predict_proba(X_train_std)\n",
    "\n",
    "from sklearn.metrics import roc_curve\n",
    "fpr_log,tpr_log,thr_log = roc_curve(y_train, y_pred_proba[:,1])\n",
    "\n",
    "df = pd.DataFrame(dict(fpr=fpr_log, tpr=tpr_log, thr = thr_log))\n",
    "\n",
    "plt.axis([0, 1.01, 0, 1.01])\n",
    "plt.xlabel('1 - Specificty')\n",
    "plt.ylabel('TPR / Sensitivity')\n",
    "plt.title('ROC Curve')\n",
    "plt.plot(df['fpr'],df['tpr'])\n",
    "plt.plot(np.arange(0,1, step =0.01), np.arange(0,1, step =0.01))\n",
    "plt.show()"
   ]
  },
  {
   "cell_type": "code",
   "execution_count": 78,
   "metadata": {},
   "outputs": [
    {
     "name": "stdout",
     "output_type": "stream",
     "text": [
      "AUC= 0.8671990770985969\n"
     ]
    }
   ],
   "source": [
    "from sklearn.metrics import auc\n",
    "print('AUC=', auc(fpr_log, tpr_log))"
   ]
  },
  {
   "cell_type": "code",
   "execution_count": 79,
   "metadata": {},
   "outputs": [],
   "source": [
    "\n",
    "probs_test = lr.predict_proba(X_test_std)[:,1]\n",
    "y_pred_test = probs_test > umbral"
   ]
  },
  {
   "cell_type": "code",
   "execution_count": 80,
   "metadata": {},
   "outputs": [
    {
     "data": {
      "text/plain": [
       "Text(33.0, 0.5, 'Reales')"
      ]
     },
     "execution_count": 80,
     "metadata": {},
     "output_type": "execute_result"
    },
    {
     "data": {
      "image/png": "[encoded data removed]",
      "text/plain": [
       "<Figure size 432x288 with 2 Axes>"
      ]
     },
     "metadata": {
      "needs_background": "light"
     },
     "output_type": "display_data"
    }
   ],
   "source": [
    "sns.heatmap(confusion_matrix(y_test, y_pred_test), annot=True, fmt='4d')\n",
    "plt.xlabel('Predichos')\n",
    "plt.ylabel('Reales')"
   ]
  },
  {
   "cell_type": "code",
   "execution_count": 81,
   "metadata": {},
   "outputs": [
    {
     "name": "stdout",
     "output_type": "stream",
     "text": [
      "              precision    recall  f1-score   support\n",
      "\n",
      "           0       0.97      0.87      0.92       940\n",
      "           1       0.15      0.50      0.23        42\n",
      "\n",
      "    accuracy                           0.86       982\n",
      "   macro avg       0.56      0.69      0.57       982\n",
      "weighted avg       0.94      0.86      0.89       982\n",
      "\n"
     ]
    }
   ],
   "source": [
    "print(classification_report(y_test, y_pred_test))"
   ]
  },
  {
   "cell_type": "markdown",
   "metadata": {},
   "source": [
    "### Pipeline y Gridsearch"
   ]
  },
  {
   "cell_type": "code",
   "execution_count": 82,
   "metadata": {},
   "outputs": [],
   "source": [
    "pasos = [('preprocesamiento', StandardScaler()), ('clasificador', LogisticRegression(solver='lbfgs', max_iter=500))]\n",
    "pipe = Pipeline(pasos)"
   ]
  },
  {
   "cell_type": "code",
   "execution_count": 83,
   "metadata": {},
   "outputs": [],
   "source": [
    "param_grid = [{'preprocesamiento':[StandardScaler(), MinMaxScaler(), None], 'clasificador': [KNeighborsClassifier()],'clasificador__n_neighbors':range(2,20,2), 'clasificador__weights':['uniform','distance']}, {'preprocesamiento':[StandardScaler(), MinMaxScaler(), None],'clasificador__penalty':['l2'], 'clasificador__C':[0.001, 0.01, 0.05, 0.1, 0.3, 0.5, 1, 5, 10, 50]},{'preprocesamiento':[StandardScaler(), MinMaxScaler(), None], 'clasificador': [GaussianNB()]}]     "
   ]
  },
  {
   "cell_type": "code",
   "execution_count": 84,
   "metadata": {},
   "outputs": [],
   "source": [
    "folds=StratifiedKFold(n_splits=5,shuffle=True, random_state=42)"
   ]
  },
  {
   "cell_type": "code",
   "execution_count": 85,
   "metadata": {},
   "outputs": [],
   "source": [
    "grid =GridSearchCV(pipe, param_grid, cv=folds)"
   ]
  },
  {
   "cell_type": "code",
   "execution_count": 86,
   "metadata": {},
   "outputs": [
    {
     "data": {
      "text/plain": [
       "GridSearchCV(cv=StratifiedKFold(n_splits=5, random_state=42, shuffle=True),\n",
       "             error_score=nan,\n",
       "             estimator=Pipeline(memory=None,\n",
       "                                steps=[('preprocesamiento',\n",
       "                                        StandardScaler(copy=True,\n",
       "                                                       with_mean=True,\n",
       "                                                       with_std=True)),\n",
       "                                       ('clasificador',\n",
       "                                        LogisticRegression(C=1.0,\n",
       "                                                           class_weight=None,\n",
       "                                                           dual=False,\n",
       "                                                           fit_intercept=True,\n",
       "                                                           intercept_scaling=1,\n",
       "                                                           l1_ratio=None,\n",
       "                                                           max_iter=500,\n",
       "                                                           multi_class...\n",
       "                                                              with_mean=True,\n",
       "                                                              with_std=True),\n",
       "                                               MinMaxScaler(copy=True,\n",
       "                                                            feature_range=(0,\n",
       "                                                                           1)),\n",
       "                                               None]},\n",
       "                         {'clasificador': [GaussianNB(priors=None,\n",
       "                                                      var_smoothing=1e-09)],\n",
       "                          'preprocesamiento': [StandardScaler(copy=True,\n",
       "                                                              with_mean=True,\n",
       "                                                              with_std=True),\n",
       "                                               MinMaxScaler(copy=True,\n",
       "                                                            feature_range=(0,\n",
       "                                                                           1)),\n",
       "                                               None]}],\n",
       "             pre_dispatch='2*n_jobs', refit=True, return_train_score=False,\n",
       "             scoring=None, verbose=0)"
      ]
     },
     "execution_count": 86,
     "metadata": {},
     "output_type": "execute_result"
    }
   ],
   "source": [
    "grid.fit(X_train,y_train)"
   ]
  },
  {
   "cell_type": "code",
   "execution_count": 87,
   "metadata": {},
   "outputs": [
    {
     "data": {
      "text/plain": [
       "Pipeline(memory=None,\n",
       "         steps=[('preprocesamiento',\n",
       "                 StandardScaler(copy=True, with_mean=True, with_std=True)),\n",
       "                ('clasificador',\n",
       "                 LogisticRegression(C=0.01, class_weight=None, dual=False,\n",
       "                                    fit_intercept=True, intercept_scaling=1,\n",
       "                                    l1_ratio=None, max_iter=500,\n",
       "                                    multi_class='auto', n_jobs=None,\n",
       "                                    penalty='l2', random_state=None,\n",
       "                                    solver='lbfgs', tol=0.0001, verbose=0,\n",
       "                                    warm_start=False))],\n",
       "         verbose=False)"
      ]
     },
     "execution_count": 87,
     "metadata": {},
     "output_type": "execute_result"
    }
   ],
   "source": [
    "grid.best_estimator_"
   ]
  },
  {
   "cell_type": "code",
   "execution_count": 88,
   "metadata": {},
   "outputs": [
    {
     "data": {
      "text/plain": [
       "0.9577070063694268"
      ]
     },
     "execution_count": 88,
     "metadata": {},
     "output_type": "execute_result"
    }
   ],
   "source": [
    "grid.best_score_"
   ]
  },
  {
   "cell_type": "code",
   "execution_count": 89,
   "metadata": {},
   "outputs": [],
   "source": [
    "y_predic_grid = grid.best_estimator_.predict(X_train)"
   ]
  },
  {
   "cell_type": "code",
   "execution_count": 90,
   "metadata": {},
   "outputs": [],
   "source": [
    "\n",
    "probs_2 = grid.best_estimator_.predict_proba(X_train)[:,1]\n",
    "y_pred_train_grid = probs_2 > umbral"
   ]
  },
  {
   "cell_type": "code",
   "execution_count": 91,
   "metadata": {},
   "outputs": [
    {
     "data": {
      "text/plain": [
       "Text(33.0, 0.5, 'Reales')"
      ]
     },
     "execution_count": 91,
     "metadata": {},
     "output_type": "execute_result"
    },
    {
     "data": {
      "image/png": "[encoded data removed]",
      "text/plain": [
       "<Figure size 432x288 with 2 Axes>"
      ]
     },
     "metadata": {
      "needs_background": "light"
     },
     "output_type": "display_data"
    }
   ],
   "source": [
    "sns.heatmap(confusion_matrix(y_train, y_pred_train_grid), annot=True, fmt='4d')\n",
    "plt.xlabel('Predichos')\n",
    "plt.ylabel('Reales')"
   ]
  },
  {
   "cell_type": "code",
   "execution_count": 92,
   "metadata": {},
   "outputs": [
    {
     "name": "stdout",
     "output_type": "stream",
     "text": [
      "              precision    recall  f1-score   support\n",
      "\n",
      "       False       0.89      0.98      0.93      3429\n",
      "        True       0.54      0.18      0.27       496\n",
      "\n",
      "    accuracy                           0.88      3925\n",
      "   macro avg       0.72      0.58      0.60      3925\n",
      "weighted avg       0.85      0.88      0.85      3925\n",
      "\n"
     ]
    }
   ],
   "source": [
    "print(classification_report(y_pred_train_grid,y_train)) "
   ]
  },
  {
   "cell_type": "code",
   "execution_count": 93,
   "metadata": {},
   "outputs": [],
   "source": [
    "probs_2 = grid.best_estimator_.predict_proba(X_test)[:,1]\n",
    "y_pred_test_grid = probs_2 > umbral"
   ]
  },
  {
   "cell_type": "code",
   "execution_count": 94,
   "metadata": {},
   "outputs": [
    {
     "data": {
      "text/plain": [
       "Text(33.0, 0.5, 'Reales')"
      ]
     },
     "execution_count": 94,
     "metadata": {},
     "output_type": "execute_result"
    },
    {
     "data": {
      "image/png": "[encoded data removed]",
      "text/plain": [
       "<Figure size 432x288 with 2 Axes>"
      ]
     },
     "metadata": {
      "needs_background": "light"
     },
     "output_type": "display_data"
    }
   ],
   "source": [
    "sns.heatmap(confusion_matrix(y_test, y_pred_test_grid), annot=True, fmt='4d')\n",
    "plt.xlabel('Predichos')\n",
    "plt.ylabel('Reales')"
   ]
  },
  {
   "cell_type": "code",
   "execution_count": 95,
   "metadata": {},
   "outputs": [
    {
     "name": "stdout",
     "output_type": "stream",
     "text": [
      "              precision    recall  f1-score   support\n",
      "\n",
      "       False       0.90      0.97      0.93       866\n",
      "        True       0.45      0.16      0.24       116\n",
      "\n",
      "    accuracy                           0.88       982\n",
      "   macro avg       0.67      0.57      0.59       982\n",
      "weighted avg       0.84      0.88      0.85       982\n",
      "\n"
     ]
    }
   ],
   "source": [
    "print(classification_report(y_pred_test_grid,y_test)) "
   ]
  },
  {
   "cell_type": "code",
   "execution_count": 96,
   "metadata": {},
   "outputs": [
    {
     "data": {
      "image/png": "[encoded data removed]",
      "text/plain": [
       "<Figure size 432x288 with 1 Axes>"
      ]
     },
     "metadata": {
      "needs_background": "light"
     },
     "output_type": "display_data"
    }
   ],
   "source": [
    "# ROC Curva y AUC\n",
    "y_pred_proba_grid = grid.best_estimator_.predict_proba(X_train)\n",
    "\n",
    "from sklearn.metrics import roc_curve\n",
    "fpr_log,tpr_log,thr_log = roc_curve(y_train, y_pred_proba[:,1])\n",
    "fpr_log2,tpr_log2,thr_log2 = roc_curve(y_train, y_pred_proba_grid[:,1])\n",
    "\n",
    "\n",
    "df = pd.DataFrame(dict(fpr=fpr_log, tpr=tpr_log, thr = thr_log))\n",
    "df_grid = pd.DataFrame(dict(fpr=fpr_log2, tpr=tpr_log2, thr = thr_log2))\n",
    "\n",
    "\n",
    "plt.axis([0, 1.01, 0, 1.01])\n",
    "plt.xlabel('1 - Specificty')\n",
    "plt.ylabel('TPR / Sensitivity')\n",
    "plt.title('ROC Curve')\n",
    "plt.plot(df['fpr'],df['tpr'])\n",
    "plt.plot(df_grid['fpr'],df_grid['tpr'])\n",
    "plt.legend(['Logit', 'Logit2'])\n",
    "plt.plot(np.arange(0,1, step =0.01), np.arange(0,1, step =0.01))\n",
    "plt.show()"
   ]
  },
  {
   "cell_type": "code",
   "execution_count": 97,
   "metadata": {},
   "outputs": [
    {
     "name": "stdout",
     "output_type": "stream",
     "text": [
      "AUC_2= 0.8619105588716127\n",
      "AUC= 0.8671990770985969\n"
     ]
    }
   ],
   "source": [
    "from sklearn.metrics import auc\n",
    "print('AUC_2=', auc(fpr_log2, tpr_log2))\n",
    "print('AUC=', auc(fpr_log, tpr_log))"
   ]
  },
  {
   "cell_type": "code",
   "execution_count": null,
   "metadata": {},
   "outputs": [],
   "source": []
  }
 ],
 "metadata": {
  "kernelspec": {
   "display_name": "Python 3",
   "language": "python",
   "name": "python3"
  },
  "language_info": {
   "codemirror_mode": {
    "name": "ipython",
    "version": 3
   },
   "file_extension": ".py",
   "mimetype": "text/x-python",
   "name": "python",
   "nbconvert_exporter": "python",
   "pygments_lexer": "ipython3",
   "version": "3.7.6"
  }
 },
 "nbformat": 4,
 "nbformat_minor": 4
}
